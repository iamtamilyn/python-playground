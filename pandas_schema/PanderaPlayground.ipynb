{
 "cells": [
  {
   "cell_type": "code",
   "execution_count": 7,
   "metadata": {},
   "outputs": [
    {
     "name": "stdout",
     "output_type": "stream",
     "text": [
      "   column1  column2\n",
      "0        1     -1.3\n",
      "1        4     -1.4\n",
      "2        0     -2.9\n",
      "3       10    -10.1\n",
      "4        9    -20.4\n"
     ]
    }
   ],
   "source": [
    "import pandas as pd\n",
    "import pandera as pa\n",
    "\n",
    "from pandera import DataFrameSchema, Column, Check, check_input\n",
    "\n",
    "\n",
    "df = pd.DataFrame({\n",
    "   \"column1\": [1, 4, 0, 10, 9],\n",
    "   \"column2\": [-1.3, -1.4, -2.9, -10.1, -20.4],\n",
    "})\n",
    "\n",
    "in_schema = DataFrameSchema({\n",
    "   \"column1\": Column(pa.Int,\n",
    "                     Check(lambda x: 0 <= x <= 10, element_wise=True)),\n",
    "   \"column2\": Column(pa.Float, Check(lambda x: x < -1.2)),\n",
    "})\n",
    "\n",
    "# by default, check_input assumes that the first argument is\n",
    "# dataframe/series.\n",
    "@check_input(in_schema)\n",
    "def preprocessor(dataframe):\n",
    "    dataframe[\"column1\"] < 5\n",
    "    return dataframe\n",
    "\n",
    "preprocessed_df = preprocessor(df)\n",
    "print(preprocessed_df)"
   ]
  },
  {
   "cell_type": "code",
   "execution_count": 8,
   "metadata": {},
   "outputs": [
    {
     "data": {
      "text/html": [
       "<div>\n",
       "<style scoped>\n",
       "    .dataframe tbody tr th:only-of-type {\n",
       "        vertical-align: middle;\n",
       "    }\n",
       "\n",
       "    .dataframe tbody tr th {\n",
       "        vertical-align: top;\n",
       "    }\n",
       "\n",
       "    .dataframe thead th {\n",
       "        text-align: right;\n",
       "    }\n",
       "</style>\n",
       "<table border=\"1\" class=\"dataframe\">\n",
       "  <thead>\n",
       "    <tr style=\"text-align: right;\">\n",
       "      <th></th>\n",
       "      <th>column1</th>\n",
       "      <th>column2</th>\n",
       "    </tr>\n",
       "  </thead>\n",
       "  <tbody>\n",
       "    <tr>\n",
       "      <th>0</th>\n",
       "      <td>1</td>\n",
       "      <td>-1.3</td>\n",
       "    </tr>\n",
       "    <tr>\n",
       "      <th>1</th>\n",
       "      <td>4</td>\n",
       "      <td>-1.4</td>\n",
       "    </tr>\n",
       "    <tr>\n",
       "      <th>2</th>\n",
       "      <td>0</td>\n",
       "      <td>-2.9</td>\n",
       "    </tr>\n",
       "    <tr>\n",
       "      <th>3</th>\n",
       "      <td>10</td>\n",
       "      <td>-10.1</td>\n",
       "    </tr>\n",
       "    <tr>\n",
       "      <th>4</th>\n",
       "      <td>9</td>\n",
       "      <td>-20.4</td>\n",
       "    </tr>\n",
       "  </tbody>\n",
       "</table>\n",
       "</div>"
      ],
      "text/plain": [
       "   column1  column2\n",
       "0        1     -1.3\n",
       "1        4     -1.4\n",
       "2        0     -2.9\n",
       "3       10    -10.1\n",
       "4        9    -20.4"
      ]
     },
     "execution_count": 8,
     "metadata": {},
     "output_type": "execute_result"
    }
   ],
   "source": [
    "df"
   ]
  },
  {
   "cell_type": "code",
   "execution_count": 9,
   "metadata": {},
   "outputs": [
    {
     "data": {
      "text/html": [
       "<div>\n",
       "<style scoped>\n",
       "    .dataframe tbody tr th:only-of-type {\n",
       "        vertical-align: middle;\n",
       "    }\n",
       "\n",
       "    .dataframe tbody tr th {\n",
       "        vertical-align: top;\n",
       "    }\n",
       "\n",
       "    .dataframe thead th {\n",
       "        text-align: right;\n",
       "    }\n",
       "</style>\n",
       "<table border=\"1\" class=\"dataframe\">\n",
       "  <thead>\n",
       "    <tr style=\"text-align: right;\">\n",
       "      <th></th>\n",
       "      <th>height</th>\n",
       "      <th>group</th>\n",
       "    </tr>\n",
       "  </thead>\n",
       "  <tbody>\n",
       "    <tr>\n",
       "      <th>0</th>\n",
       "      <td>5.6</td>\n",
       "      <td>A</td>\n",
       "    </tr>\n",
       "    <tr>\n",
       "      <th>1</th>\n",
       "      <td>6.4</td>\n",
       "      <td>B</td>\n",
       "    </tr>\n",
       "    <tr>\n",
       "      <th>2</th>\n",
       "      <td>4.0</td>\n",
       "      <td>A</td>\n",
       "    </tr>\n",
       "    <tr>\n",
       "      <th>3</th>\n",
       "      <td>7.1</td>\n",
       "      <td>B</td>\n",
       "    </tr>\n",
       "  </tbody>\n",
       "</table>\n",
       "</div>"
      ],
      "text/plain": [
       "   height group\n",
       "0     5.6     A\n",
       "1     6.4     B\n",
       "2     4.0     A\n",
       "3     7.1     B"
      ]
     },
     "execution_count": 9,
     "metadata": {},
     "output_type": "execute_result"
    }
   ],
   "source": [
    "df = pd.DataFrame({\n",
    "    \"height\": [5.6, 6.4, 4.0, 7.1],\n",
    "    \"group\": [\"A\", \"B\", \"A\", \"B\"],\n",
    "})\n",
    "\n",
    "schema = pa.DataFrameSchema({\n",
    "    \"height\": pa.Column(\n",
    "        pa.Float,\n",
    "        pa.Check(lambda g: g[\"A\"].mean() < g[\"B\"].mean(), groupby=\"group\")\n",
    "    ),\n",
    "    \"group\": pa.Column(pa.String)\n",
    "})\n",
    "\n",
    "schema.validate(df)"
   ]
  },
  {
   "cell_type": "code",
   "execution_count": 15,
   "metadata": {},
   "outputs": [
    {
     "name": "stdout",
     "output_type": "stream",
     "text": [
      "Schema errors and failure cases:\n",
      "  schema_context column             check  check_number  failure_case index\n",
      "0         Column      a  <Check <lambda>>             0         False  None\n"
     ]
    }
   ],
   "source": [
    "schema = pa.DataFrameSchema({\n",
    "    \"a\": pa.Column(\n",
    "        pa.Int,\n",
    "        checks=[\n",
    "            # a vectorized check that returns a bool\n",
    "            pa.Check(lambda s: s.mean() > 5, element_wise=False),\n",
    "\n",
    "            # a vectorized check that returns a boolean series\n",
    "            pa.Check(lambda s: s > 0, element_wise=False),\n",
    "\n",
    "            # an element-wise check that returns a bool\n",
    "            pa.Check(lambda x: x > 0, element_wise=True),\n",
    "        ]\n",
    "    ),\n",
    "})\n",
    "df = pd.DataFrame({\"a\": [4, 4, 5, 6, 6, 7, -8, 9]})\n",
    "try:\n",
    "    schema.validate(df, lazy=True)\n",
    "except pa.errors.SchemaErrors as err:\n",
    "    print(\"Schema errors and failure cases:\")\n",
    "    print(err.schema_errors.head())"
   ]
  }
 ],
 "metadata": {
  "kernelspec": {
   "display_name": "Python 3",
   "language": "python",
   "name": "python3"
  },
  "language_info": {
   "codemirror_mode": {
    "name": "ipython",
    "version": 3
   },
   "file_extension": ".py",
   "mimetype": "text/x-python",
   "name": "python",
   "nbconvert_exporter": "python",
   "pygments_lexer": "ipython3",
   "version": "3.7.8"
  }
 },
 "nbformat": 4,
 "nbformat_minor": 4
}
