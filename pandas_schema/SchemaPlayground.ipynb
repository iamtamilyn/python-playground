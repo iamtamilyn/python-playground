{
 "cells": [
  {
   "cell_type": "markdown",
   "metadata": {},
   "source": [
    "# Set Up"
   ]
  },
  {
   "cell_type": "code",
   "execution_count": 2,
   "metadata": {
    "ExecuteTime": {
     "end_time": "2020-09-11T16:43:35.828073Z",
     "start_time": "2020-09-11T16:43:34.983659Z"
    },
    "scrolled": true
   },
   "outputs": [],
   "source": [
    "import pandas as pd\n",
    "from pandas_schema import Column, Schema\n",
    "from pandas_schema.validation import (\n",
    "    DateFormatValidation,\n",
    "    LeadingWhitespaceValidation,\n",
    "    TrailingWhitespaceValidation,\n",
    "    CanConvertValidation,\n",
    "    MatchesPatternValidation,\n",
    "    InRangeValidation,\n",
    "    InListValidation,\n",
    "    _SeriesValidation,\n",
    "    CustomSeriesValidation,\n",
    "    CustomElementValidation,\n",
    ")\n",
    "\n",
    "from io import StringIO"
   ]
  },
  {
   "cell_type": "code",
   "execution_count": null,
   "metadata": {
    "ExecuteTime": {
     "end_time": "2020-09-09T16:19:18.846958Z",
     "start_time": "2020-09-09T16:19:18.837958Z"
    }
   },
   "outputs": [],
   "source": [
    "#file_path = r\"C:\\Users\\tape\\Documents\\GitHub\\Pandas\\SampleFiles\\employees.csv\"\n",
    "#df = pd.read_csv(file_path, dtype=\"object\")"
   ]
  },
  {
   "cell_type": "markdown",
   "metadata": {},
   "source": [
    "# Example Column Validations"
   ]
  },
  {
   "cell_type": "code",
   "execution_count": 89,
   "metadata": {
    "ExecuteTime": {
     "end_time": "2020-09-09T23:45:39.060556Z",
     "start_time": "2020-09-09T23:45:39.044556Z"
    }
   },
   "outputs": [
    {
     "data": {
      "text/html": [
       "<div>\n",
       "<style scoped>\n",
       "    .dataframe tbody tr th:only-of-type {\n",
       "        vertical-align: middle;\n",
       "    }\n",
       "\n",
       "    .dataframe tbody tr th {\n",
       "        vertical-align: top;\n",
       "    }\n",
       "\n",
       "    .dataframe thead th {\n",
       "        text-align: right;\n",
       "    }\n",
       "</style>\n",
       "<table border=\"1\" class=\"dataframe\">\n",
       "  <thead>\n",
       "    <tr style=\"text-align: right;\">\n",
       "      <th></th>\n",
       "      <th>col1</th>\n",
       "      <th>col2</th>\n",
       "      <th>col3</th>\n",
       "    </tr>\n",
       "  </thead>\n",
       "  <tbody>\n",
       "    <tr>\n",
       "      <th>0</th>\n",
       "      <td></td>\n",
       "      <td>123</td>\n",
       "      <td>1000</td>\n",
       "    </tr>\n",
       "    <tr>\n",
       "      <th>1</th>\n",
       "      <td>13</td>\n",
       "      <td>13.50</td>\n",
       "      <td>1300.50</td>\n",
       "    </tr>\n",
       "    <tr>\n",
       "      <th>2</th>\n",
       "      <td>a</td>\n",
       "      <td>123</td>\n",
       "      <td>123</td>\n",
       "    </tr>\n",
       "    <tr>\n",
       "      <th>3</th>\n",
       "      <td>8</td>\n",
       "      <td>123.5</td>\n",
       "      <td>123.5</td>\n",
       "    </tr>\n",
       "    <tr>\n",
       "      <th>4</th>\n",
       "      <td>the</td>\n",
       "      <td>the</td>\n",
       "      <td>999</td>\n",
       "    </tr>\n",
       "  </tbody>\n",
       "</table>\n",
       "</div>"
      ],
      "text/plain": [
       "  col1   col2     col3\n",
       "0         123     1000\n",
       "1   13  13.50  1300.50\n",
       "2    a    123      123\n",
       "3    8  123.5    123.5\n",
       "4  the    the      999"
      ]
     },
     "execution_count": 89,
     "metadata": {},
     "output_type": "execute_result"
    }
   ],
   "source": [
    "test_data = pd.DataFrame({\n",
    "    'col1': [\n",
    "        '',\n",
    "        '13',\n",
    "        'a',\n",
    "        '8',\n",
    "        'the',\n",
    "    ],\n",
    "    'col2': [\n",
    "        '123',\n",
    "        '13.50',\n",
    "        123,\n",
    "        123.5,\n",
    "        'the',\n",
    "    ],\n",
    "    'col3': [\n",
    "        '1000',\n",
    "        '1300.50',\n",
    "        123,\n",
    "        123.5,\n",
    "        999,\n",
    "    ]\n",
    "})\n",
    "test_data"
   ]
  },
  {
   "cell_type": "code",
   "execution_count": 91,
   "metadata": {
    "ExecuteTime": {
     "end_time": "2020-09-09T23:46:14.168877Z",
     "start_time": "2020-09-09T23:46:14.159875Z"
    }
   },
   "outputs": [
    {
     "name": "stdout",
     "output_type": "stream",
     "text": [
      "col1 value of'' cannot be converted to type <class 'int'>;\n",
      "col2 value of'13.50' is not a number;\n",
      "col1 value of'a' cannot be converted to type <class 'int'>;\n",
      "col1 value of'the' cannot be converted to type <class 'int'>;\n",
      "col2 value of'the' is not a number;\n"
     ]
    }
   ],
   "source": [
    "schema = Schema([\n",
    "    Column('col1', [CanConvertValidation(int)], allow_empty=False),\n",
    "    Column('col2', [CanConvertValidation(int, message=\"is not a number\")]), # can do custom message\n",
    "])\n",
    "\n",
    "errors = schema.validate(test_data[['col1','col2']])\n",
    "\n",
    "for error in errors:\n",
    "    print(f\"{error.column} value of'{error.value}' {error.message};\")"
   ]
  },
  {
   "cell_type": "markdown",
   "metadata": {},
   "source": [
    "# More Examples"
   ]
  },
  {
   "cell_type": "code",
   "execution_count": 74,
   "metadata": {
    "ExecuteTime": {
     "end_time": "2020-09-09T20:10:05.147819Z",
     "start_time": "2020-09-09T20:10:05.128817Z"
    }
   },
   "outputs": [
    {
     "data": {
      "text/html": [
       "<div>\n",
       "<style scoped>\n",
       "    .dataframe tbody tr th:only-of-type {\n",
       "        vertical-align: middle;\n",
       "    }\n",
       "\n",
       "    .dataframe tbody tr th {\n",
       "        vertical-align: top;\n",
       "    }\n",
       "\n",
       "    .dataframe thead th {\n",
       "        text-align: right;\n",
       "    }\n",
       "</style>\n",
       "<table border=\"1\" class=\"dataframe\">\n",
       "  <thead>\n",
       "    <tr style=\"text-align: right;\">\n",
       "      <th></th>\n",
       "      <th>Given Name</th>\n",
       "      <th>Family Name</th>\n",
       "      <th>Age</th>\n",
       "      <th>Sex</th>\n",
       "      <th>Customer ID</th>\n",
       "    </tr>\n",
       "  </thead>\n",
       "  <tbody>\n",
       "    <tr>\n",
       "      <th>0</th>\n",
       "      <td>Gerald</td>\n",
       "      <td>Hampton</td>\n",
       "      <td>82</td>\n",
       "      <td>Male</td>\n",
       "      <td>2582GABK</td>\n",
       "    </tr>\n",
       "    <tr>\n",
       "      <th>1</th>\n",
       "      <td>Yuuwa</td>\n",
       "      <td>Miyake</td>\n",
       "      <td>270</td>\n",
       "      <td>male</td>\n",
       "      <td>7951WVLW</td>\n",
       "    </tr>\n",
       "    <tr>\n",
       "      <th>2</th>\n",
       "      <td>Edyta</td>\n",
       "      <td>Majewska</td>\n",
       "      <td>50</td>\n",
       "      <td>Female</td>\n",
       "      <td>775ANSID</td>\n",
       "    </tr>\n",
       "  </tbody>\n",
       "</table>\n",
       "</div>"
      ],
      "text/plain": [
       "  Given Name Family Name  Age     Sex Customer ID\n",
       "0    Gerald      Hampton   82    Male    2582GABK\n",
       "1      Yuuwa      Miyake  270    male    7951WVLW\n",
       "2      Edyta   Majewska    50  Female    775ANSID"
      ]
     },
     "execution_count": 74,
     "metadata": {},
     "output_type": "execute_result"
    }
   ],
   "source": [
    "test_data = pd.read_csv(StringIO('''Given Name,Family Name,Age,Sex,Customer ID\n",
    "Gerald ,Hampton,82,Male,2582GABK\n",
    "Yuuwa,Miyake,270,male,7951WVLW\n",
    "Edyta,Majewska ,50,Female,775ANSID\n",
    "'''))\n",
    "test_data"
   ]
  },
  {
   "cell_type": "code",
   "execution_count": 13,
   "metadata": {
    "ExecuteTime": {
     "end_time": "2020-09-09T18:20:09.919819Z",
     "start_time": "2020-09-09T18:20:09.909819Z"
    }
   },
   "outputs": [
    {
     "name": "stdout",
     "output_type": "stream",
     "text": [
      "{row: 0, column: \"Given Name\"}: \"Gerald \" contains trailing whitespace\n",
      "{row: 1, column: \"Age\"}: \"270\" was not in the range [0, 120)\n",
      "{row: 1, column: \"Sex\"}: \"male\" is not in the list of legal options (Male, Female, Other)\n",
      "{row: 2, column: \"Family Name\"}: \"Majewska \" contains trailing whitespace\n",
      "{row: 2, column: \"Customer ID\"}: \"775ANSID\" does not match the pattern \"\\d{4}[A-Z]{4}\"\n"
     ]
    }
   ],
   "source": [
    "schema = Schema([\n",
    "    Column('Given Name', [LeadingWhitespaceValidation(), TrailingWhitespaceValidation()]),\n",
    "    Column('Family Name', [LeadingWhitespaceValidation(), TrailingWhitespaceValidation()]),\n",
    "    Column('Age', [CanConvertValidation(int), InRangeValidation(0, 120)]),\n",
    "    Column('Sex', [InListValidation(['Male', 'Female', 'Other'])]),\n",
    "    Column('Customer ID', [MatchesPatternValidation(r'\\d{4}[A-Z]{4}')]),\n",
    "])\n",
    "\n",
    "errors = schema.validate(test_data)\n",
    "\n",
    "for error in errors:\n",
    "    print(error)"
   ]
  },
  {
   "cell_type": "markdown",
   "metadata": {},
   "source": [
    "# Custom Class Validation Example"
   ]
  },
  {
   "cell_type": "code",
   "execution_count": 75,
   "metadata": {
    "ExecuteTime": {
     "end_time": "2020-09-09T20:14:34.964269Z",
     "start_time": "2020-09-09T20:14:34.954264Z"
    }
   },
   "outputs": [],
   "source": [
    "class NoMoreMoneyThan(_SeriesValidation):\n",
    "    \n",
    "    def __init__(self, amount_limit, **kwargs):\n",
    "        super().__init__(**kwargs)\n",
    "        self.amount_limit = int(amount_limit)\n",
    "\n",
    "    @property\n",
    "    def default_message(self):\n",
    "        return f\"is higher than {self.amount_limit}\"\n",
    "        \n",
    "    def validation_function(self, var):\n",
    "        try:\n",
    "            return int(var) <= self.amount_limit\n",
    "        except:\n",
    "            return False\n",
    "\n",
    "    def validate(self, series: pd.Series) -> pd.Series:\n",
    "        return series.apply(self.validation_function)"
   ]
  },
  {
   "cell_type": "code",
   "execution_count": 76,
   "metadata": {
    "ExecuteTime": {
     "end_time": "2020-09-09T20:14:35.903060Z",
     "start_time": "2020-09-09T20:14:35.883061Z"
    }
   },
   "outputs": [
    {
     "data": {
      "text/html": [
       "<div>\n",
       "<style scoped>\n",
       "    .dataframe tbody tr th:only-of-type {\n",
       "        vertical-align: middle;\n",
       "    }\n",
       "\n",
       "    .dataframe tbody tr th {\n",
       "        vertical-align: top;\n",
       "    }\n",
       "\n",
       "    .dataframe thead th {\n",
       "        text-align: right;\n",
       "    }\n",
       "</style>\n",
       "<table border=\"1\" class=\"dataframe\">\n",
       "  <thead>\n",
       "    <tr style=\"text-align: right;\">\n",
       "      <th></th>\n",
       "      <th>col1</th>\n",
       "      <th>col2</th>\n",
       "      <th>col3</th>\n",
       "    </tr>\n",
       "  </thead>\n",
       "  <tbody>\n",
       "    <tr>\n",
       "      <th>0</th>\n",
       "      <td>an</td>\n",
       "      <td>123</td>\n",
       "      <td>1000</td>\n",
       "    </tr>\n",
       "    <tr>\n",
       "      <th>1</th>\n",
       "      <td>13</td>\n",
       "      <td>13.50</td>\n",
       "      <td>1300.50</td>\n",
       "    </tr>\n",
       "    <tr>\n",
       "      <th>2</th>\n",
       "      <td>a</td>\n",
       "      <td>123</td>\n",
       "      <td>123</td>\n",
       "    </tr>\n",
       "    <tr>\n",
       "      <th>3</th>\n",
       "      <td>8</td>\n",
       "      <td>123.5</td>\n",
       "      <td>123654</td>\n",
       "    </tr>\n",
       "    <tr>\n",
       "      <th>4</th>\n",
       "      <td>the</td>\n",
       "      <td>the</td>\n",
       "      <td>999</td>\n",
       "    </tr>\n",
       "  </tbody>\n",
       "</table>\n",
       "</div>"
      ],
      "text/plain": [
       "  col1   col2     col3\n",
       "0   an    123     1000\n",
       "1   13  13.50  1300.50\n",
       "2    a    123      123\n",
       "3    8  123.5   123654\n",
       "4  the    the      999"
      ]
     },
     "execution_count": 76,
     "metadata": {},
     "output_type": "execute_result"
    }
   ],
   "source": [
    "test_data = pd.DataFrame({\n",
    "    'col1': [\n",
    "        'an',\n",
    "        '13',\n",
    "        'a',\n",
    "        '8',\n",
    "        'the',\n",
    "    ],\n",
    "    'col2': [\n",
    "        '123',\n",
    "        '13.50',\n",
    "        123,\n",
    "        123.5,\n",
    "        'the',\n",
    "    ],\n",
    "    'col3': [\n",
    "        '1000',\n",
    "        '1300.50',\n",
    "        123,\n",
    "        123654,\n",
    "        999,\n",
    "    ]\n",
    "})\n",
    "test_data"
   ]
  },
  {
   "cell_type": "code",
   "execution_count": 77,
   "metadata": {
    "ExecuteTime": {
     "end_time": "2020-09-09T20:14:51.978173Z",
     "start_time": "2020-09-09T20:14:51.965176Z"
    }
   },
   "outputs": [
    {
     "name": "stdout",
     "output_type": "stream",
     "text": [
      "col2 value of'13.50' is not a number;\n",
      "col3 value of'1300.50' is higher than 1000;\n",
      "col3 value of'123654' is higher than 1000;\n",
      "col2 value of'the' is not a number;\n"
     ]
    }
   ],
   "source": [
    "schema = Schema([\n",
    "    Column('col1', [CanConvertValidation(str)]),\n",
    "    Column('col2', [CanConvertValidation(int, message=\"is not a number\")]),\n",
    "    Column('col3', [NoMoreMoneyThan(1000)]),\n",
    "])\n",
    "\n",
    "errors = schema.validate(test_data)\n",
    "\n",
    "for error in errors:\n",
    "    print(f\"{error.column} value of'{error.value}' {error.message};\")"
   ]
  },
  {
   "cell_type": "code",
   "execution_count": 78,
   "metadata": {
    "ExecuteTime": {
     "end_time": "2020-09-09T20:15:29.933781Z",
     "start_time": "2020-09-09T20:15:29.917779Z"
    }
   },
   "outputs": [
    {
     "name": "stdout",
     "output_type": "stream",
     "text": [
      "col3 value of'1000' was not in the range [0, 1000);\n",
      "col2 value of'13.50' is not a number;\n",
      "col3 value of'1300.50' cannot be converted to type <class 'int'>;\n",
      "col3 value of'1300.50' was not in the range [0, 1000);\n",
      "col3 value of'123654' was not in the range [0, 1000);\n",
      "col2 value of'the' is not a number;\n"
     ]
    }
   ],
   "source": [
    "schema = Schema([\n",
    "    Column('col1', [CanConvertValidation(str)]),\n",
    "    Column('col2', [CanConvertValidation(int, message=\"is not a number\")]),\n",
    "    Column('col3', [CanConvertValidation(int), InRangeValidation(0,1000)]), # , & |\n",
    "])\n",
    "\n",
    "errors = schema.validate(test_data)\n",
    "\n",
    "for error in errors:\n",
    "    print(f\"{error.column} value of'{error.value}' {error.message};\")"
   ]
  },
  {
   "cell_type": "markdown",
   "metadata": {},
   "source": [
    "# Custom Type Example"
   ]
  },
  {
   "cell_type": "code",
   "execution_count": 79,
   "metadata": {
    "ExecuteTime": {
     "end_time": "2020-09-09T20:16:19.311309Z",
     "start_time": "2020-09-09T20:16:19.300312Z"
    }
   },
   "outputs": [
    {
     "name": "stdout",
     "output_type": "stream",
     "text": [
      "col1 value of'an' cannot be converted to type <class 'decimal.Decimal'>;\n",
      "col2 value of'13.50' cannot be converted to type <class 'int'>;\n",
      "col1 value of'a' cannot be converted to type <class 'decimal.Decimal'>;\n",
      "col1 value of'the' cannot be converted to type <class 'decimal.Decimal'>;\n",
      "col2 value of'the' cannot be converted to type <class 'int'>;\n"
     ]
    }
   ],
   "source": [
    "from decimal import Decimal\n",
    "\n",
    "schema = Schema([\n",
    "    Column('col1', [CanConvertValidation(Decimal)]),\n",
    "    Column('col2', [CanConvertValidation(int)]),\n",
    "])\n",
    "\n",
    "errors = schema.validate(test_data[['col1','col2']])\n",
    "\n",
    "for error in errors:\n",
    "    print(f\"{error.column} value of'{error.value}' {error.message};\")"
   ]
  },
  {
   "cell_type": "markdown",
   "metadata": {},
   "source": [
    "# Join Error Messages"
   ]
  },
  {
   "cell_type": "code",
   "execution_count": 32,
   "metadata": {
    "ExecuteTime": {
     "end_time": "2020-09-09T19:02:34.021645Z",
     "start_time": "2020-09-09T19:02:34.001644Z"
    }
   },
   "outputs": [
    {
     "data": {
      "text/html": [
       "<div>\n",
       "<style scoped>\n",
       "    .dataframe tbody tr th:only-of-type {\n",
       "        vertical-align: middle;\n",
       "    }\n",
       "\n",
       "    .dataframe tbody tr th {\n",
       "        vertical-align: top;\n",
       "    }\n",
       "\n",
       "    .dataframe thead th {\n",
       "        text-align: right;\n",
       "    }\n",
       "</style>\n",
       "<table border=\"1\" class=\"dataframe\">\n",
       "  <thead>\n",
       "    <tr style=\"text-align: right;\">\n",
       "      <th></th>\n",
       "      <th>col1</th>\n",
       "      <th>col2</th>\n",
       "      <th>col3</th>\n",
       "      <th>errorCode</th>\n",
       "    </tr>\n",
       "  </thead>\n",
       "  <tbody>\n",
       "    <tr>\n",
       "      <th>0</th>\n",
       "      <td>an</td>\n",
       "      <td>123</td>\n",
       "      <td>1000</td>\n",
       "      <td>col1 cannot be converted to type &lt;class 'decim...</td>\n",
       "    </tr>\n",
       "    <tr>\n",
       "      <th>1</th>\n",
       "      <td>13</td>\n",
       "      <td>13.50</td>\n",
       "      <td>1300.50</td>\n",
       "      <td>col2 cannot be converted to type &lt;class 'int'&gt;</td>\n",
       "    </tr>\n",
       "    <tr>\n",
       "      <th>2</th>\n",
       "      <td>a</td>\n",
       "      <td>123</td>\n",
       "      <td>123</td>\n",
       "      <td>col1 cannot be converted to type &lt;class 'decim...</td>\n",
       "    </tr>\n",
       "    <tr>\n",
       "      <th>3</th>\n",
       "      <td>8</td>\n",
       "      <td>123.5</td>\n",
       "      <td>123654</td>\n",
       "      <td>NaN</td>\n",
       "    </tr>\n",
       "    <tr>\n",
       "      <th>4</th>\n",
       "      <td>the</td>\n",
       "      <td>the</td>\n",
       "      <td>999</td>\n",
       "      <td>col1 cannot be converted to type &lt;class 'decim...</td>\n",
       "    </tr>\n",
       "  </tbody>\n",
       "</table>\n",
       "</div>"
      ],
      "text/plain": [
       "  col1   col2     col3                                          errorCode\n",
       "0   an    123     1000  col1 cannot be converted to type <class 'decim...\n",
       "1   13  13.50  1300.50     col2 cannot be converted to type <class 'int'>\n",
       "2    a    123      123  col1 cannot be converted to type <class 'decim...\n",
       "3    8  123.5   123654                                                NaN\n",
       "4  the    the      999  col1 cannot be converted to type <class 'decim..."
      ]
     },
     "execution_count": 32,
     "metadata": {},
     "output_type": "execute_result"
    }
   ],
   "source": [
    "from collections import defaultdict\n",
    "grouped_errors = defaultdict(list)\n",
    "for error in errors:\n",
    "    grouped_errors[error.row].append(error)\n",
    "        \n",
    "for row in grouped_errors:\n",
    "    error_messages = map(lambda e: f\"{e.column} {e.message}\", grouped_errors[row])\n",
    "    test_data.at[row, \"errorCode\"] = \";\".join(str(x) for x in error_messages)\n",
    "        \n",
    "test_data"
   ]
  },
  {
   "cell_type": "markdown",
   "metadata": {},
   "source": [
    "# MultiIndex Example"
   ]
  },
  {
   "cell_type": "code",
   "execution_count": 80,
   "metadata": {
    "ExecuteTime": {
     "end_time": "2020-09-09T20:17:55.596442Z",
     "start_time": "2020-09-09T20:17:55.570439Z"
    }
   },
   "outputs": [
    {
     "data": {
      "text/html": [
       "<div>\n",
       "<style scoped>\n",
       "    .dataframe tbody tr th:only-of-type {\n",
       "        vertical-align: middle;\n",
       "    }\n",
       "\n",
       "    .dataframe tbody tr th {\n",
       "        vertical-align: top;\n",
       "    }\n",
       "\n",
       "    .dataframe thead th {\n",
       "        text-align: right;\n",
       "    }\n",
       "</style>\n",
       "<table border=\"1\" class=\"dataframe\">\n",
       "  <thead>\n",
       "    <tr style=\"text-align: right;\">\n",
       "      <th></th>\n",
       "      <th>ScheduleAmount</th>\n",
       "      <th>ScheduleFrequency</th>\n",
       "      <th>ScheduleStart</th>\n",
       "      <th>AllocationScheduleFields</th>\n",
       "    </tr>\n",
       "  </thead>\n",
       "  <tbody>\n",
       "    <tr>\n",
       "      <th>0</th>\n",
       "      <td>150</td>\n",
       "      <td>a</td>\n",
       "      <td>20200101</td>\n",
       "      <td>(150, a, 20200101)</td>\n",
       "    </tr>\n",
       "    <tr>\n",
       "      <th>1</th>\n",
       "      <td>2</td>\n",
       "      <td>b</td>\n",
       "      <td></td>\n",
       "      <td>(2, b, )</td>\n",
       "    </tr>\n",
       "    <tr>\n",
       "      <th>2</th>\n",
       "      <td>3</td>\n",
       "      <td>c</td>\n",
       "      <td>20200101</td>\n",
       "      <td>(3, c, 20200101)</td>\n",
       "    </tr>\n",
       "    <tr>\n",
       "      <th>3</th>\n",
       "      <td>a</td>\n",
       "      <td></td>\n",
       "      <td>A</td>\n",
       "      <td>(a, , A)</td>\n",
       "    </tr>\n",
       "  </tbody>\n",
       "</table>\n",
       "</div>"
      ],
      "text/plain": [
       "  ScheduleAmount ScheduleFrequency ScheduleStart AllocationScheduleFields\n",
       "0            150                 a      20200101       (150, a, 20200101)\n",
       "1              2                 b                               (2, b, )\n",
       "2              3                 c      20200101         (3, c, 20200101)\n",
       "3              a                               A                 (a, , A)"
      ]
     },
     "execution_count": 80,
     "metadata": {},
     "output_type": "execute_result"
    }
   ],
   "source": [
    "df = pd.DataFrame({\n",
    "    (\"ScheduleAmount\"): [150, 2, 3, \"a\"],\n",
    "    (\"ScheduleFrequency\"): [\"a\", \"b\", \"c\", \"\"],\n",
    "    (\"ScheduleStart\"): [\"20200101\",\"\", \"20200101\",\"A\"],\n",
    "})\n",
    "df[\"AllocationScheduleFields\"] = pd.MultiIndex.from_frame(df, names=['amount','freq','start'])\n",
    "df"
   ]
  },
  {
   "cell_type": "code",
   "execution_count": 81,
   "metadata": {
    "ExecuteTime": {
     "end_time": "2020-09-09T20:19:26.030755Z",
     "start_time": "2020-09-09T20:19:26.018759Z"
    }
   },
   "outputs": [],
   "source": [
    "class AllOrNone(_SeriesValidation):\n",
    "    \n",
    "    def __init__(self, **kwargs):\n",
    "        super().__init__(**kwargs)\n",
    "\n",
    "    @property\n",
    "    def default_message(self):\n",
    "        return 'were partially populated. Provide all 3 or none.'\n",
    "        \n",
    "    def validation_function(self, var):\n",
    "        try:\n",
    "            return var.count(\"\") == 0 or var.count(\"\") == 3\n",
    "        except:\n",
    "            return False\n",
    "\n",
    "    def validate(self, series: pd.Series) -> pd.Series:\n",
    "        return series.apply(self.validation_function)"
   ]
  },
  {
   "cell_type": "code",
   "execution_count": 82,
   "metadata": {
    "ExecuteTime": {
     "end_time": "2020-09-09T20:19:28.226661Z",
     "start_time": "2020-09-09T20:19:28.208660Z"
    }
   },
   "outputs": [
    {
     "name": "stdout",
     "output_type": "stream",
     "text": [
      "AllocationScheduleFields were partially populated. Provide all 3 or none.;\n",
      "ScheduleFrequency is not in the list of legal options (A, M, a);\n",
      "ScheduleStart does not match the date format string \"%Y%m%d\";\n",
      "ScheduleFrequency is not in the list of legal options (A, M, a);\n",
      "AllocationScheduleFields were partially populated. Provide all 3 or none.;\n",
      "ScheduleAmount was not in the range [0, 1000000);\n",
      "ScheduleAmount cannot be converted to type <class 'int'>;\n",
      "ScheduleFrequency is not in the list of legal options (A, M, a);\n",
      "ScheduleStart does not match the date format string \"%Y%m%d\";\n"
     ]
    }
   ],
   "source": [
    "schema = Schema([\n",
    "    Column('AllocationScheduleFields', [AllOrNone()]),\n",
    "    Column('ScheduleAmount', [InRangeValidation(0, 1000000), CanConvertValidation(int)]),\n",
    "    Column('ScheduleFrequency', [InListValidation([\"A\",\"M\",\"a\"])]),\n",
    "    Column('ScheduleStart', [DateFormatValidation(\"%Y%m%d\")]),\n",
    "])\n",
    "\n",
    "\n",
    "errors = schema.validate(df)\n",
    "\n",
    "for error in errors:\n",
    "    #print(error)\n",
    "    #print(f\"{error.column} value of'{error.value}' {error.message};\")\n",
    "    print(f\"{error.column} {error.message};\")"
   ]
  },
  {
   "cell_type": "markdown",
   "metadata": {
    "ExecuteTime": {
     "end_time": "2020-09-09T19:28:43.481783Z",
     "start_time": "2020-09-09T19:28:43.478785Z"
    }
   },
   "source": [
    "## different way to make a combined column"
   ]
  },
  {
   "cell_type": "code",
   "execution_count": 66,
   "metadata": {
    "ExecuteTime": {
     "end_time": "2020-09-09T19:28:57.481116Z",
     "start_time": "2020-09-09T19:28:57.466119Z"
    }
   },
   "outputs": [
    {
     "data": {
      "text/html": [
       "<div>\n",
       "<style scoped>\n",
       "    .dataframe tbody tr th:only-of-type {\n",
       "        vertical-align: middle;\n",
       "    }\n",
       "\n",
       "    .dataframe tbody tr th {\n",
       "        vertical-align: top;\n",
       "    }\n",
       "\n",
       "    .dataframe thead th {\n",
       "        text-align: right;\n",
       "    }\n",
       "</style>\n",
       "<table border=\"1\" class=\"dataframe\">\n",
       "  <thead>\n",
       "    <tr style=\"text-align: right;\">\n",
       "      <th></th>\n",
       "      <th>AllocationScheduleFields</th>\n",
       "      <th>ScheduleAmount</th>\n",
       "      <th>ScheduleFrequency</th>\n",
       "      <th>ScheduleStart</th>\n",
       "    </tr>\n",
       "  </thead>\n",
       "  <tbody>\n",
       "    <tr>\n",
       "      <th>0</th>\n",
       "      <td>(150, a, 20200101)</td>\n",
       "      <td>150</td>\n",
       "      <td>a</td>\n",
       "      <td>20200101</td>\n",
       "    </tr>\n",
       "    <tr>\n",
       "      <th>1</th>\n",
       "      <td>(2, b, )</td>\n",
       "      <td>2</td>\n",
       "      <td>b</td>\n",
       "      <td></td>\n",
       "    </tr>\n",
       "    <tr>\n",
       "      <th>2</th>\n",
       "      <td>(3, c, 20200101)</td>\n",
       "      <td>3</td>\n",
       "      <td>c</td>\n",
       "      <td>20200101</td>\n",
       "    </tr>\n",
       "    <tr>\n",
       "      <th>3</th>\n",
       "      <td>(a, , A)</td>\n",
       "      <td>a</td>\n",
       "      <td></td>\n",
       "      <td>A</td>\n",
       "    </tr>\n",
       "  </tbody>\n",
       "</table>\n",
       "</div>"
      ],
      "text/plain": [
       "  AllocationScheduleFields ScheduleAmount ScheduleFrequency ScheduleStart\n",
       "0       (150, a, 20200101)            150                 a      20200101\n",
       "1                 (2, b, )              2                 b              \n",
       "2         (3, c, 20200101)              3                 c      20200101\n",
       "3                 (a, , A)              a                               A"
      ]
     },
     "execution_count": 66,
     "metadata": {},
     "output_type": "execute_result"
    }
   ],
   "source": [
    "df = pd.DataFrame({\n",
    "    (\"ScheduleAmount\"): [150, 2, 3, \"a\"],\n",
    "    (\"ScheduleFrequency\"): [\"a\", \"b\", \"c\", \"\"],\n",
    "    (\"ScheduleStart\"): [\"20200101\",\"\", \"20200101\",\"A\"],\n",
    "})\n",
    "df.insert(loc=0, column='AllocationScheduleFields', value=list(zip(df.ScheduleAmount, df.ScheduleFrequency, df.ScheduleStart)), allow_duplicates=False)\n",
    "df"
   ]
  },
  {
   "cell_type": "markdown",
   "metadata": {},
   "source": [
    "# Column/Row Validator"
   ]
  },
  {
   "cell_type": "code",
   "execution_count": 47,
   "metadata": {
    "ExecuteTime": {
     "end_time": "2020-09-10T18:41:28.286958Z",
     "start_time": "2020-09-10T18:41:28.273994Z"
    }
   },
   "outputs": [
    {
     "data": {
      "text/html": [
       "<div>\n",
       "<style scoped>\n",
       "    .dataframe tbody tr th:only-of-type {\n",
       "        vertical-align: middle;\n",
       "    }\n",
       "\n",
       "    .dataframe tbody tr th {\n",
       "        vertical-align: top;\n",
       "    }\n",
       "\n",
       "    .dataframe thead th {\n",
       "        text-align: right;\n",
       "    }\n",
       "</style>\n",
       "<table border=\"1\" class=\"dataframe\">\n",
       "  <thead>\n",
       "    <tr style=\"text-align: right;\">\n",
       "      <th></th>\n",
       "      <th>ScheduleAmount</th>\n",
       "      <th>ScheduleFrequency</th>\n",
       "      <th>ScheduleStart</th>\n",
       "    </tr>\n",
       "  </thead>\n",
       "  <tbody>\n",
       "    <tr>\n",
       "      <th>0</th>\n",
       "      <td>150</td>\n",
       "      <td>a</td>\n",
       "      <td>20200101</td>\n",
       "    </tr>\n",
       "    <tr>\n",
       "      <th>1</th>\n",
       "      <td>2</td>\n",
       "      <td>b</td>\n",
       "      <td></td>\n",
       "    </tr>\n",
       "    <tr>\n",
       "      <th>2</th>\n",
       "      <td>3</td>\n",
       "      <td>c</td>\n",
       "      <td>20200101</td>\n",
       "    </tr>\n",
       "    <tr>\n",
       "      <th>3</th>\n",
       "      <td>a</td>\n",
       "      <td></td>\n",
       "      <td>A</td>\n",
       "    </tr>\n",
       "    <tr>\n",
       "      <th>4</th>\n",
       "      <td></td>\n",
       "      <td></td>\n",
       "      <td></td>\n",
       "    </tr>\n",
       "  </tbody>\n",
       "</table>\n",
       "</div>"
      ],
      "text/plain": [
       "  ScheduleAmount ScheduleFrequency ScheduleStart\n",
       "0            150                 a      20200101\n",
       "1              2                 b              \n",
       "2              3                 c      20200101\n",
       "3              a                               A\n",
       "4                                               "
      ]
     },
     "execution_count": 47,
     "metadata": {},
     "output_type": "execute_result"
    }
   ],
   "source": [
    "df = pd.DataFrame({\n",
    "    (\"ScheduleAmount\"): [150, 2, 3, \"a\",\"\"],\n",
    "    (\"ScheduleFrequency\"): [\"a\", \"b\", \"c\", \"\",\"\"],\n",
    "    (\"ScheduleStart\"): [\"20200101\",\"\", \"20200101\",\"A\",\"\"],\n",
    "})\n",
    "df"
   ]
  },
  {
   "cell_type": "code",
   "execution_count": 4,
   "metadata": {
    "ExecuteTime": {
     "end_time": "2020-09-10T16:26:00.391394Z",
     "start_time": "2020-09-10T16:26:00.387392Z"
    }
   },
   "outputs": [
    {
     "data": {
      "text/plain": [
       "Index(['ScheduleAmount', 'ScheduleFrequency', 'ScheduleStart'], dtype='object')"
      ]
     },
     "execution_count": 4,
     "metadata": {},
     "output_type": "execute_result"
    }
   ],
   "source": [
    "df.columns"
   ]
  },
  {
   "cell_type": "code",
   "execution_count": 48,
   "metadata": {
    "ExecuteTime": {
     "end_time": "2020-09-10T18:41:31.709725Z",
     "start_time": "2020-09-10T18:41:31.662754Z"
    }
   },
   "outputs": [
    {
     "data": {
      "text/plain": [
       "0     True\n",
       "1    False\n",
       "2     True\n",
       "3    False\n",
       "4     True\n",
       "dtype: bool"
      ]
     },
     "execution_count": 48,
     "metadata": {},
     "output_type": "execute_result"
    }
   ],
   "source": [
    "column_list = ['ScheduleAmount', 'ScheduleFrequency', 'ScheduleStart']\n",
    "\n",
    "def row_validation(row):\n",
    "    result = []\n",
    "    for col in column_list:\n",
    "        result.append(row[col] == \"\")\n",
    "    return all(x == result[0] for x in result)\n",
    "\n",
    "    \n",
    "error_series = df.apply(lambda row: row_validation(row), axis = 1)\n",
    "error_series"
   ]
  },
  {
   "cell_type": "code",
   "execution_count": 78,
   "metadata": {
    "ExecuteTime": {
     "end_time": "2020-09-10T21:23:13.601514Z",
     "start_time": "2020-09-10T21:23:13.594513Z"
    }
   },
   "outputs": [
    {
     "name": "stdout",
     "output_type": "stream",
     "text": [
      "False\n",
      "ValidationWarning\n",
      "False\n",
      "ValidationWarning\n",
      "True\n",
      "False\n",
      "ValidationWarning\n",
      "True\n"
     ]
    }
   ],
   "source": [
    "for row_number, row in df.iterrows():\n",
    "    row, row_number, df\n",
    "    #print(row)\n",
    "    print(row_validation(row))\n",
    "    \n",
    "    if row_validation(row):\n",
    "        pass\n",
    "    else:\n",
    "        print(\"ValidationWarning\")\n",
    "\n",
    "        "
   ]
  },
  {
   "cell_type": "code",
   "execution_count": 74,
   "metadata": {
    "ExecuteTime": {
     "end_time": "2020-09-10T21:21:10.124875Z",
     "start_time": "2020-09-10T21:21:10.116907Z"
    }
   },
   "outputs": [
    {
     "data": {
      "text/html": [
       "<div>\n",
       "<style scoped>\n",
       "    .dataframe tbody tr th:only-of-type {\n",
       "        vertical-align: middle;\n",
       "    }\n",
       "\n",
       "    .dataframe tbody tr th {\n",
       "        vertical-align: top;\n",
       "    }\n",
       "\n",
       "    .dataframe thead th {\n",
       "        text-align: right;\n",
       "    }\n",
       "</style>\n",
       "<table border=\"1\" class=\"dataframe\">\n",
       "  <thead>\n",
       "    <tr style=\"text-align: right;\">\n",
       "      <th></th>\n",
       "      <th>ScheduleAmount</th>\n",
       "      <th>ScheduleFrequency</th>\n",
       "      <th>ScheduleStart</th>\n",
       "    </tr>\n",
       "  </thead>\n",
       "  <tbody>\n",
       "    <tr>\n",
       "      <th>0</th>\n",
       "      <td>123</td>\n",
       "      <td></td>\n",
       "      <td>20200101</td>\n",
       "    </tr>\n",
       "    <tr>\n",
       "      <th>1</th>\n",
       "      <td>2</td>\n",
       "      <td>b</td>\n",
       "      <td></td>\n",
       "    </tr>\n",
       "    <tr>\n",
       "      <th>2</th>\n",
       "      <td>3</td>\n",
       "      <td>c</td>\n",
       "      <td>20200101</td>\n",
       "    </tr>\n",
       "    <tr>\n",
       "      <th>3</th>\n",
       "      <td>a</td>\n",
       "      <td></td>\n",
       "      <td>A</td>\n",
       "    </tr>\n",
       "    <tr>\n",
       "      <th>4</th>\n",
       "      <td></td>\n",
       "      <td></td>\n",
       "      <td></td>\n",
       "    </tr>\n",
       "  </tbody>\n",
       "</table>\n",
       "</div>"
      ],
      "text/plain": [
       "  ScheduleAmount ScheduleFrequency ScheduleStart\n",
       "0            123                        20200101\n",
       "1              2                 b              \n",
       "2              3                 c      20200101\n",
       "3              a                               A\n",
       "4                                               "
      ]
     },
     "execution_count": 74,
     "metadata": {},
     "output_type": "execute_result"
    }
   ],
   "source": [
    "column_dict = {'ScheduleAmount': \"123\", 'ScheduleFrequency': \"\", 'ScheduleStart': \"20200101\"}\n",
    "for key, val in column_dict.items():\n",
    "    df.at[0, key] = val\n",
    "    \n",
    "df"
   ]
  },
  {
   "cell_type": "code",
   "execution_count": 73,
   "metadata": {
    "ExecuteTime": {
     "end_time": "2020-09-10T21:20:53.985763Z",
     "start_time": "2020-09-10T21:20:53.979761Z"
    }
   },
   "outputs": [
    {
     "data": {
      "text/html": [
       "<div>\n",
       "<style scoped>\n",
       "    .dataframe tbody tr th:only-of-type {\n",
       "        vertical-align: middle;\n",
       "    }\n",
       "\n",
       "    .dataframe tbody tr th {\n",
       "        vertical-align: top;\n",
       "    }\n",
       "\n",
       "    .dataframe thead th {\n",
       "        text-align: right;\n",
       "    }\n",
       "</style>\n",
       "<table border=\"1\" class=\"dataframe\">\n",
       "  <thead>\n",
       "    <tr style=\"text-align: right;\">\n",
       "      <th></th>\n",
       "      <th>ScheduleAmount</th>\n",
       "      <th>ScheduleFrequency</th>\n",
       "      <th>ScheduleStart</th>\n",
       "    </tr>\n",
       "  </thead>\n",
       "  <tbody>\n",
       "    <tr>\n",
       "      <th>0</th>\n",
       "      <td>123</td>\n",
       "      <td>A</td>\n",
       "      <td>20200101</td>\n",
       "    </tr>\n",
       "    <tr>\n",
       "      <th>1</th>\n",
       "      <td>2</td>\n",
       "      <td>b</td>\n",
       "      <td></td>\n",
       "    </tr>\n",
       "    <tr>\n",
       "      <th>2</th>\n",
       "      <td>3</td>\n",
       "      <td>c</td>\n",
       "      <td>20200101</td>\n",
       "    </tr>\n",
       "    <tr>\n",
       "      <th>3</th>\n",
       "      <td>a</td>\n",
       "      <td></td>\n",
       "      <td>A</td>\n",
       "    </tr>\n",
       "    <tr>\n",
       "      <th>4</th>\n",
       "      <td></td>\n",
       "      <td></td>\n",
       "      <td></td>\n",
       "    </tr>\n",
       "  </tbody>\n",
       "</table>\n",
       "</div>"
      ],
      "text/plain": [
       "  ScheduleAmount ScheduleFrequency ScheduleStart\n",
       "0            123                 A      20200101\n",
       "1              2                 b              \n",
       "2              3                 c      20200101\n",
       "3              a                               A\n",
       "4                                               "
      ]
     },
     "execution_count": 73,
     "metadata": {},
     "output_type": "execute_result"
    }
   ],
   "source": [
    "df"
   ]
  },
  {
   "cell_type": "code",
   "execution_count": 11,
   "metadata": {
    "ExecuteTime": {
     "end_time": "2020-09-10T16:27:54.070168Z",
     "start_time": "2020-09-10T16:27:54.063198Z"
    }
   },
   "outputs": [
    {
     "data": {
      "text/html": [
       "<div>\n",
       "<style scoped>\n",
       "    .dataframe tbody tr th:only-of-type {\n",
       "        vertical-align: middle;\n",
       "    }\n",
       "\n",
       "    .dataframe tbody tr th {\n",
       "        vertical-align: top;\n",
       "    }\n",
       "\n",
       "    .dataframe thead th {\n",
       "        text-align: right;\n",
       "    }\n",
       "</style>\n",
       "<table border=\"1\" class=\"dataframe\">\n",
       "  <thead>\n",
       "    <tr style=\"text-align: right;\">\n",
       "      <th></th>\n",
       "      <th>ScheduleAmount</th>\n",
       "      <th>ScheduleFrequency</th>\n",
       "      <th>ScheduleStart</th>\n",
       "    </tr>\n",
       "  </thead>\n",
       "  <tbody>\n",
       "    <tr>\n",
       "      <th>0</th>\n",
       "      <td>150</td>\n",
       "      <td>a</td>\n",
       "      <td>20200101</td>\n",
       "    </tr>\n",
       "    <tr>\n",
       "      <th>1</th>\n",
       "      <td>2</td>\n",
       "      <td>b</td>\n",
       "      <td></td>\n",
       "    </tr>\n",
       "    <tr>\n",
       "      <th>2</th>\n",
       "      <td>3</td>\n",
       "      <td>c</td>\n",
       "      <td>20200101</td>\n",
       "    </tr>\n",
       "    <tr>\n",
       "      <th>3</th>\n",
       "      <td>a</td>\n",
       "      <td></td>\n",
       "      <td>A</td>\n",
       "    </tr>\n",
       "  </tbody>\n",
       "</table>\n",
       "</div>"
      ],
      "text/plain": [
       "  ScheduleAmount ScheduleFrequency ScheduleStart\n",
       "0            150                 a      20200101\n",
       "1              2                 b              \n",
       "2              3                 c      20200101\n",
       "3              a                               A"
      ]
     },
     "execution_count": 11,
     "metadata": {},
     "output_type": "execute_result"
    }
   ],
   "source": [
    "df[empty_mask | populated_mask]"
   ]
  },
  {
   "cell_type": "code",
   "execution_count": null,
   "metadata": {},
   "outputs": [],
   "source": []
  },
  {
   "cell_type": "markdown",
   "metadata": {},
   "source": [
    "# Primay and Secondary Validations?"
   ]
  },
  {
   "cell_type": "code",
   "execution_count": 64,
   "metadata": {
    "ExecuteTime": {
     "end_time": "2020-09-10T18:58:28.896234Z",
     "start_time": "2020-09-10T18:58:28.884239Z"
    }
   },
   "outputs": [
    {
     "data": {
      "text/html": [
       "<div>\n",
       "<style scoped>\n",
       "    .dataframe tbody tr th:only-of-type {\n",
       "        vertical-align: middle;\n",
       "    }\n",
       "\n",
       "    .dataframe tbody tr th {\n",
       "        vertical-align: top;\n",
       "    }\n",
       "\n",
       "    .dataframe thead th {\n",
       "        text-align: right;\n",
       "    }\n",
       "</style>\n",
       "<table border=\"1\" class=\"dataframe\">\n",
       "  <thead>\n",
       "    <tr style=\"text-align: right;\">\n",
       "      <th></th>\n",
       "      <th>col1</th>\n",
       "    </tr>\n",
       "  </thead>\n",
       "  <tbody>\n",
       "    <tr>\n",
       "      <th>0</th>\n",
       "      <td></td>\n",
       "    </tr>\n",
       "    <tr>\n",
       "      <th>1</th>\n",
       "      <td>1300.50</td>\n",
       "    </tr>\n",
       "    <tr>\n",
       "      <th>2</th>\n",
       "      <td>123</td>\n",
       "    </tr>\n",
       "    <tr>\n",
       "      <th>3</th>\n",
       "      <td>123654</td>\n",
       "    </tr>\n",
       "    <tr>\n",
       "      <th>4</th>\n",
       "      <td>None</td>\n",
       "    </tr>\n",
       "  </tbody>\n",
       "</table>\n",
       "</div>"
      ],
      "text/plain": [
       "      col1\n",
       "0         \n",
       "1  1300.50\n",
       "2      123\n",
       "3   123654\n",
       "4     None"
      ]
     },
     "execution_count": 64,
     "metadata": {},
     "output_type": "execute_result"
    }
   ],
   "source": [
    "test_data = pd.DataFrame({\n",
    "    'col1': [\n",
    "        '',\n",
    "        '1300.50',\n",
    "        '123',\n",
    "        '123654',\n",
    "        None,\n",
    "    ]\n",
    "}, dtype='object')\n",
    "test_data"
   ]
  },
  {
   "cell_type": "code",
   "execution_count": 151,
   "metadata": {
    "ExecuteTime": {
     "end_time": "2020-09-10T00:50:15.625870Z",
     "start_time": "2020-09-10T00:50:15.615871Z"
    }
   },
   "outputs": [
    {
     "name": "stdout",
     "output_type": "stream",
     "text": [
      "col1 value of '1300.50' cannot be converted to type <class 'int'>;\n",
      "col1 value of '1300.50' was not in the range [0, 1000);\n",
      "col1 value of '123654' was not in the range [0, 1000);\n"
     ]
    }
   ],
   "source": [
    "schema = Schema([\n",
    "    Column('col1', [CanConvertValidation(int), InRangeValidation(0,1000)],allow_empty=True), # , & |\n",
    "])\n",
    "\n",
    "errors = schema.validate(test_data[['col1']])\n",
    "\n",
    "for error in errors:\n",
    "    print(f\"{error.column} value of '{error.value}' {error.message};\")"
   ]
  },
  {
   "cell_type": "code",
   "execution_count": 65,
   "metadata": {
    "ExecuteTime": {
     "end_time": "2020-09-10T18:58:30.092237Z",
     "start_time": "2020-09-10T18:58:30.085204Z"
    }
   },
   "outputs": [
    {
     "data": {
      "text/plain": [
       "0     True\n",
       "1    False\n",
       "2    False\n",
       "3    False\n",
       "4     None\n",
       "Name: col1, dtype: object"
      ]
     },
     "execution_count": 65,
     "metadata": {},
     "output_type": "execute_result"
    }
   ],
   "source": [
    "test_data['col1'].str.match(\"^$\")"
   ]
  },
  {
   "cell_type": "code",
   "execution_count": 60,
   "metadata": {
    "ExecuteTime": {
     "end_time": "2020-09-10T18:55:24.241130Z",
     "start_time": "2020-09-10T18:55:24.232128Z"
    }
   },
   "outputs": [
    {
     "data": {
      "text/plain": [
       "0     True\n",
       "1    False\n",
       "2    False\n",
       "3    False\n",
       "4    False\n",
       "Name: col1, dtype: bool"
      ]
     },
     "execution_count": 60,
     "metadata": {},
     "output_type": "execute_result"
    }
   ],
   "source": [
    "test_data['col1'].astype('str').str.match(\"^$\")"
   ]
  },
  {
   "cell_type": "code",
   "execution_count": null,
   "metadata": {},
   "outputs": [],
   "source": []
  },
  {
   "cell_type": "code",
   "execution_count": 61,
   "metadata": {
    "ExecuteTime": {
     "end_time": "2020-09-10T18:55:40.165110Z",
     "start_time": "2020-09-10T18:55:40.157145Z"
    }
   },
   "outputs": [
    {
     "name": "stdout",
     "output_type": "stream",
     "text": [
      "col1 (value of '') is a required field.;\n"
     ]
    }
   ],
   "source": [
    "rules_list = \"required\"\n",
    "rules_list = \"required\".split(\"|\")\n",
    "required = not \"required\" in rules_list\n",
    "\n",
    "schema = Schema([\n",
    "    #Column('col1', [~CanConvertValidation(Decimal) | ~InRangeValidation(0,1000)]), # , & |\n",
    "    Column('col1', [CustomSeriesValidation(lambda s: ~s.astype('str').str.match(\"^$\"), \"is a required field.\")],allow_empty=False),\n",
    "    #Column('col1', [CustomElementValidation(lambda s: s != \"\", \"is a required field.\")]),\n",
    "    \n",
    "    \n",
    "])\n",
    "\n",
    "errors = schema.validate(test_data[['col1']])\n",
    "\n",
    "for error in errors:\n",
    "    print(f\"{error.column} (value of '{error.value}') {error.message};\")"
   ]
  },
  {
   "cell_type": "code",
   "execution_count": null,
   "metadata": {},
   "outputs": [],
   "source": []
  },
  {
   "cell_type": "markdown",
   "metadata": {},
   "source": [
    ":param allow_empty: True if an empty column is considered valid. False if we leave that logic up to the Validation\n",
    "allow_empty=False,"
   ]
  },
  {
   "cell_type": "code",
   "execution_count": 167,
   "metadata": {
    "ExecuteTime": {
     "end_time": "2020-09-10T01:08:51.746017Z",
     "start_time": "2020-09-10T01:08:51.740020Z"
    }
   },
   "outputs": [
    {
     "data": {
      "text/plain": [
       "['required']"
      ]
     },
     "execution_count": 167,
     "metadata": {},
     "output_type": "execute_result"
    }
   ],
   "source": [
    "rules_list"
   ]
  },
  {
   "cell_type": "code",
   "execution_count": 136,
   "metadata": {
    "ExecuteTime": {
     "end_time": "2020-09-10T00:34:12.671529Z",
     "start_time": "2020-09-10T00:34:12.665532Z"
    }
   },
   "outputs": [
    {
     "data": {
      "text/plain": [
       "False"
      ]
     },
     "execution_count": 136,
     "metadata": {},
     "output_type": "execute_result"
    }
   ],
   "source": [
    "rules_list = [\"required\"]\n",
    "rules_list = \"required\".split(\"|\")\n",
    "not \"required\" in rules_list"
   ]
  },
  {
   "cell_type": "code",
   "execution_count": 168,
   "metadata": {
    "ExecuteTime": {
     "end_time": "2020-09-10T01:10:05.744286Z",
     "start_time": "2020-09-10T01:10:05.739284Z"
    }
   },
   "outputs": [
    {
     "data": {
      "text/plain": [
       "False"
      ]
     },
     "execution_count": 168,
     "metadata": {},
     "output_type": "execute_result"
    }
   ],
   "source": [
    "rules_list = \"required|date\".split(\"|\")\n",
    "not \"required\" in rules_list"
   ]
  },
  {
   "cell_type": "code",
   "execution_count": 137,
   "metadata": {
    "ExecuteTime": {
     "end_time": "2020-09-10T00:34:23.867828Z",
     "start_time": "2020-09-10T00:34:23.861827Z"
    }
   },
   "outputs": [
    {
     "data": {
      "text/plain": [
       "True"
      ]
     },
     "execution_count": 137,
     "metadata": {},
     "output_type": "execute_result"
    }
   ],
   "source": [
    "rules_list = \"date\".split(\"|\")\n",
    "not \"required\" in rules_list"
   ]
  },
  {
   "cell_type": "code",
   "execution_count": 176,
   "metadata": {
    "ExecuteTime": {
     "end_time": "2020-09-10T01:12:19.181621Z",
     "start_time": "2020-09-10T01:12:19.173621Z"
    }
   },
   "outputs": [
    {
     "data": {
      "text/plain": [
       "[pandas_schema.validation.CustomSeriesValidation,\n",
       " pandas_schema.validation.CustomSeriesValidation]"
      ]
     },
     "execution_count": 176,
     "metadata": {},
     "output_type": "execute_result"
    }
   ],
   "source": [
    "RULES = {\"required\": [CustomSeriesValidation],\"date\": [CustomSeriesValidation]}\n",
    "items = rules_list\n",
    "[\n",
    "        rule\n",
    "        for item in items\n",
    "        #if item.lower() not in SKIP\n",
    "        for rule in RULES[item.lower()]\n",
    "    ]"
   ]
  },
  {
   "cell_type": "code",
   "execution_count": null,
   "metadata": {},
   "outputs": [],
   "source": []
  },
  {
   "cell_type": "code",
   "execution_count": 28,
   "metadata": {
    "ExecuteTime": {
     "end_time": "2020-09-11T20:23:54.122076Z",
     "start_time": "2020-09-11T20:23:54.115077Z"
    }
   },
   "outputs": [
    {
     "data": {
      "text/plain": [
       "['dependentHraAllocationScheduleAmount',\n",
       " 'dependentHraAllocationScheduleFrequencyCode',\n",
       " 'dependentHraAllocationScheduleStartDate']"
      ]
     },
     "execution_count": 28,
     "metadata": {},
     "output_type": "execute_result"
    }
   ],
   "source": [
    "dict_test =  {\n",
    "            \"dependentHraAllocationScheduleAmount\": \"123\",\n",
    "            \"dependentHraAllocationScheduleFrequencyCode\": \"A\",\n",
    "            \"dependentHraAllocationScheduleStartDate\": \"20201231\",\n",
    "        }\n",
    "key_list = list(dict_test.keys())\n",
    "key_list"
   ]
  },
  {
   "cell_type": "code",
   "execution_count": null,
   "metadata": {},
   "outputs": [],
   "source": []
  },
  {
   "cell_type": "code",
   "execution_count": 19,
   "metadata": {
    "ExecuteTime": {
     "end_time": "2020-09-11T19:49:34.898999Z",
     "start_time": "2020-09-11T19:49:34.891997Z"
    }
   },
   "outputs": [
    {
     "name": "stdout",
     "output_type": "stream",
     "text": [
      "0\n"
     ]
    },
    {
     "data": {
      "text/plain": [
       "[]"
      ]
     },
     "execution_count": 19,
     "metadata": {},
     "output_type": "execute_result"
    }
   ],
   "source": [
    "value = None\n",
    "result = []\n",
    "\n",
    "result.append(value) if value == \"\" else None\n",
    "print(len(result))\n",
    "result"
   ]
  },
  {
   "cell_type": "code",
   "execution_count": 25,
   "metadata": {
    "ExecuteTime": {
     "end_time": "2020-09-11T19:50:47.292175Z",
     "start_time": "2020-09-11T19:50:47.283196Z"
    }
   },
   "outputs": [
    {
     "ename": "NameError",
     "evalue": "name 'NoneType' is not defined",
     "output_type": "error",
     "traceback": [
      "\u001b[1;31m---------------------------------------------------------------------------\u001b[0m",
      "\u001b[1;31mNameError\u001b[0m                                 Traceback (most recent call last)",
      "\u001b[1;32m<ipython-input-25-ee7093b96f5d>\u001b[0m in \u001b[0;36m<module>\u001b[1;34m\u001b[0m\n\u001b[1;32m----> 1\u001b[1;33m \u001b[0mvalue\u001b[0m \u001b[1;33m=\u001b[0m \u001b[0mNoneType\u001b[0m\u001b[1;33m(\u001b[0m\u001b[1;33m)\u001b[0m\u001b[1;33m\u001b[0m\u001b[1;33m\u001b[0m\u001b[0m\n\u001b[0m\u001b[0;32m      2\u001b[0m \u001b[0mresult\u001b[0m\u001b[1;33m.\u001b[0m\u001b[0mappend\u001b[0m\u001b[1;33m(\u001b[0m\u001b[0mvalue\u001b[0m\u001b[1;33m)\u001b[0m\u001b[1;33m\u001b[0m\u001b[1;33m\u001b[0m\u001b[0m\n\u001b[0;32m      3\u001b[0m \u001b[0mresult\u001b[0m\u001b[1;33m\u001b[0m\u001b[1;33m\u001b[0m\u001b[0m\n",
      "\u001b[1;31mNameError\u001b[0m: name 'NoneType' is not defined"
     ]
    }
   ],
   "source": [
    "value = NoneType()\n",
    "result.append(value)\n",
    "result"
   ]
  },
  {
   "cell_type": "markdown",
   "metadata": {},
   "source": [
    "# File Date"
   ]
  },
  {
   "cell_type": "code",
   "execution_count": 11,
   "metadata": {
    "ExecuteTime": {
     "end_time": "2020-09-11T16:45:46.461852Z",
     "start_time": "2020-09-11T16:45:46.440855Z"
    }
   },
   "outputs": [
    {
     "data": {
      "text/html": [
       "<div>\n",
       "<style scoped>\n",
       "    .dataframe tbody tr th:only-of-type {\n",
       "        vertical-align: middle;\n",
       "    }\n",
       "\n",
       "    .dataframe tbody tr th {\n",
       "        vertical-align: top;\n",
       "    }\n",
       "\n",
       "    .dataframe thead th {\n",
       "        text-align: right;\n",
       "    }\n",
       "</style>\n",
       "<table border=\"1\" class=\"dataframe\">\n",
       "  <thead>\n",
       "    <tr style=\"text-align: right;\">\n",
       "      <th></th>\n",
       "      <th>clientOriginalFileName</th>\n",
       "      <th>systemAssignedBaseFileName</th>\n",
       "      <th>originalFileProcessingStartedAtTime</th>\n",
       "      <th>socialSecurityNumber</th>\n",
       "      <th>firstName</th>\n",
       "      <th>middleName</th>\n",
       "      <th>lastName</th>\n",
       "      <th>dateOfBirth</th>\n",
       "      <th>genderCode</th>\n",
       "      <th>eligibilityStartDate</th>\n",
       "      <th>...</th>\n",
       "      <th>dependentNextAllocationScheduleFrequencyCode</th>\n",
       "      <th>dependentNextAllocationScheduleStartDate</th>\n",
       "      <th>dependentDateOfDeath</th>\n",
       "      <th>dependentDateOfDivorce</th>\n",
       "      <th>participantCode</th>\n",
       "      <th>dependentParticipantCode</th>\n",
       "      <th>errorCode</th>\n",
       "      <th>portalErrorCodes</th>\n",
       "      <th>personMatches</th>\n",
       "      <th>originalRowIndex</th>\n",
       "    </tr>\n",
       "  </thead>\n",
       "  <tbody>\n",
       "    <tr>\n",
       "      <th>0</th>\n",
       "      <td>2013FormatTestFile.csv</td>\n",
       "      <td>2013FormatTestFile20191008_112620_OBFUSCATED.csv</td>\n",
       "      <td>2019-10-08 11:26:20 -06:00</td>\n",
       "      <td>100987757</td>\n",
       "      <td>James</td>\n",
       "      <td>S</td>\n",
       "      <td>CbjjJebjQA</td>\n",
       "      <td>19390226</td>\n",
       "      <td>M</td>\n",
       "      <td>20120701</td>\n",
       "      <td>...</td>\n",
       "      <td>NaN</td>\n",
       "      <td>NaN</td>\n",
       "      <td>NaN</td>\n",
       "      <td>NaN</td>\n",
       "      <td>NaN</td>\n",
       "      <td>NaN</td>\n",
       "      <td>NaN</td>\n",
       "      <td>NaN</td>\n",
       "      <td>NaN</td>\n",
       "      <td>NaN</td>\n",
       "    </tr>\n",
       "    <tr>\n",
       "      <th>1</th>\n",
       "      <td>2013FormatTestFile.csv</td>\n",
       "      <td>2013FormatTestFile20191008_112620_OBFUSCATED.csv</td>\n",
       "      <td>2019-10-08 11:26:20 -06:00</td>\n",
       "      <td>444986757</td>\n",
       "      <td>Kenneth</td>\n",
       "      <td>R</td>\n",
       "      <td>KaefKecjQA</td>\n",
       "      <td>19510817</td>\n",
       "      <td>M</td>\n",
       "      <td>20120701</td>\n",
       "      <td>...</td>\n",
       "      <td>O</td>\n",
       "      <td>NaN</td>\n",
       "      <td>NaN</td>\n",
       "      <td>NaN</td>\n",
       "      <td>NaN</td>\n",
       "      <td>NaN</td>\n",
       "      <td>NaN</td>\n",
       "      <td>NaN</td>\n",
       "      <td>NaN</td>\n",
       "      <td>NaN</td>\n",
       "    </tr>\n",
       "  </tbody>\n",
       "</table>\n",
       "<p>2 rows × 107 columns</p>\n",
       "</div>"
      ],
      "text/plain": [
       "   clientOriginalFileName                        systemAssignedBaseFileName  \\\n",
       "0  2013FormatTestFile.csv  2013FormatTestFile20191008_112620_OBFUSCATED.csv   \n",
       "1  2013FormatTestFile.csv  2013FormatTestFile20191008_112620_OBFUSCATED.csv   \n",
       "\n",
       "  originalFileProcessingStartedAtTime socialSecurityNumber firstName  \\\n",
       "0          2019-10-08 11:26:20 -06:00            100987757     James   \n",
       "1          2019-10-08 11:26:20 -06:00            444986757   Kenneth   \n",
       "\n",
       "  middleName    lastName dateOfBirth genderCode eligibilityStartDate  ...  \\\n",
       "0          S  CbjjJebjQA    19390226          M             20120701  ...   \n",
       "1          R  KaefKecjQA    19510817          M             20120701  ...   \n",
       "\n",
       "  dependentNextAllocationScheduleFrequencyCode  \\\n",
       "0                                          NaN   \n",
       "1                                            O   \n",
       "\n",
       "  dependentNextAllocationScheduleStartDate dependentDateOfDeath  \\\n",
       "0                                      NaN                  NaN   \n",
       "1                                      NaN                  NaN   \n",
       "\n",
       "  dependentDateOfDivorce participantCode dependentParticipantCode errorCode  \\\n",
       "0                    NaN             NaN                      NaN       NaN   \n",
       "1                    NaN             NaN                      NaN       NaN   \n",
       "\n",
       "  portalErrorCodes personMatches originalRowIndex  \n",
       "0              NaN           NaN              NaN  \n",
       "1              NaN           NaN              NaN  \n",
       "\n",
       "[2 rows x 107 columns]"
      ]
     },
     "execution_count": 11,
     "metadata": {},
     "output_type": "execute_result"
    }
   ],
   "source": [
    "test_data = pd.read_csv(StringIO(\"\"\"clientOriginalFileName,systemAssignedBaseFileName,originalFileProcessingStartedAtTime,socialSecurityNumber,firstName,middleName,lastName,dateOfBirth,genderCode,eligibilityStartDate,eligibleIndicator,clientSpecificPlanId,clientSpecificDentalId,medicarePartAStartDate,medicarePartAEndDate,medicarePartBStartDate,medicarePartBEndDate,healthInsuranceClaimNumber,eventCode,dependentSocialSecurityNumber,dependentFirstName,dependentMiddleName,dependentLastName,dependentDateOfBirth,dependentGenderCode,dependentEligibilityStartDate,dependentEligibleIndicator,dependentClientSpecificPlanId,dependentClientSpecificDentalId,dependentMedicarePartAStartDate,dependentMedicarePartAEndDate,dependentMedicarePartBStartDate,dependentMedicarePartBEndDate,dependentHealthInsuranceClaimNumber,dependentEventCode,phoneNumber1,phoneNumber2,emailAddress,dependentEmailAddress,addressLine1,addressLine2,addressLine3,cityName,stateCode,zipCode,countryCode,countyName,campaignSegmentGuid,clientMemberId,hraAllocationScheduleAmount,hraAllocationScheduleFrequencyCode,hraAllocationScheduleStartDate,hasEndStageRenalDisease,dependentClientMemberId,dependentHraAllocationScheduleAmount,dependentHraAllocationScheduleFrequencyCode,dependentHraAllocationScheduleStartDate,dependentHasEndStageRenalDisease,reportingValue1,reportingValue2,reportingValue3,reportingValue4,reportingValue5,eligibilityEndDate,dependentEligibilityEndDate,dependentRelationshipTypeId,employerGroupCoverageStartDate,employerGroupCoverageEndDate,dependentEmployerGroupCoverageStartDate,dependentEmployerGroupCoverageEndDate,isVip,dependentCampaignSegmentGuid,dependentReportingValue1,dependentReportingValue2,dependentReportingValue3,dependentReportingValue4,dependentReportingValue5,honorific,dependentHonorific,hraAllocationScheduleEndDate,dependentHraAllocationScheduleEndDate,previousClientMemberId,dependentPreviousClientMemberId,divisionCode,dependentDivisionCode,mailingAddress1,mailingAddress2,mailingAddressCityName,mailingAddressStateCode,mailingAddressZipCode,mailingAddressCountryCode,nextAllocationScheduleAmount,nextAllocationScheduleFrequencyCode,nextAllocationScheduleStartDate,dateOfDeath,dateOfDivorce,dependentNextAllocationScheduleAmount,dependentNextAllocationScheduleFrequencyCode,dependentNextAllocationScheduleStartDate,dependentDateOfDeath,dependentDateOfDivorce,participantCode,dependentParticipantCode,errorCode,portalErrorCodes,personMatches,originalRowIndex\n",
    "2013FormatTestFile.csv,2013FormatTestFile20191008_112620_OBFUSCATED.csv,2019-10-08 11:26:20 -06:00,100987757,James,S,CbjjJebjQA,19390226,M,20120701,N,,,,,,,,2,,,,,,,,,,,,,,,,,5053320000,5056810000,,,123 Quality Assurance St,,,ALBUQUERQUE,NM,87123,USA,Bernalillo,{A2468972-FEC0-41EC-9B8C-DBE04D6D1842},,,,,N,,,,,,,,,,,20151109,,,,,,,N,,,,,,,,,,,,,,,,,,,,,,,,20200604,,,,,,,,,,,,\n",
    "2013FormatTestFile.csv,2013FormatTestFile20191008_112620_OBFUSCATED.csv,2019-10-08 11:26:20 -06:00,444986757,Kenneth,R,KaefKecjQA,19510817,M,20120701,N,,,20101101,,20101101,,100987757A,,129447898,PATRICIA,,KaefPcfbQA,19521017,F,20120701,N,,,,,,,,,3364710000,3368690000,testextend+qa@gmail.com,testextend+dependent+qa@gmail.com,123 Quality Assurance St,,,HIGH POINT,NC,27265,USA,Guilford,{9CA5D30C-13D2-40F7-B14C-1A2F0EAD15DD},,2000,A,20120701,N,,2000,A,20120701,N,,,,,,20160731,20170930,6,,,,,N,{9CA5D30C-13D2-40F7-B14C-1A2F0EAD15DD},,,,,,,,,,,,,,,,,,,,,O,,,,,O,,,,,,,,\n",
    "\"\"\"), dtype='object')\n",
    "test_data"
   ]
  },
  {
   "cell_type": "code",
   "execution_count": null,
   "metadata": {},
   "outputs": [],
   "source": [
    "if row[\"dependentSocialSecurityNumber\"] != \"\" \n",
    "or row[\"dependentClientMemberId\"] != \"\" \n",
    "or row[\"dependentFirstName\"] != \"\" \n",
    "or row[\"dependentLastName\"] != \"\"\n",
    "or row[\"dependentDateOfBirth\"] != \"\"\n",
    "or row[\"dependentCampaignSegmentGuid\"] != \"\":\n",
    "    print(row[\"dependentSocialSecurityNumber\"])"
   ]
  },
  {
   "cell_type": "code",
   "execution_count": 12,
   "metadata": {
    "ExecuteTime": {
     "end_time": "2020-09-11T16:45:47.149785Z",
     "start_time": "2020-09-11T16:45:47.110800Z"
    },
    "scrolled": false
   },
   "outputs": [
    {
     "name": "stdout",
     "output_type": "stream",
     "text": [
      "clientOriginalFileName 2013FormatTestFile.csv\n",
      "systemAssignedBaseFileName 2013FormatTestFile20191008_112620_OBFUSCATED.csv\n",
      "originalFileProcessingStartedAtTime 2019-10-08 11:26:20 -06:00\n",
      "socialSecurityNumber 100987757\n",
      "firstName James\n",
      "middleName S\n",
      "lastName CbjjJebjQA\n",
      "dateOfBirth 19390226\n",
      "genderCode M\n",
      "eligibilityStartDate 20120701\n",
      "eligibleIndicator N\n",
      "clientSpecificPlanId nan\n",
      "clientSpecificDentalId nan\n",
      "medicarePartAStartDate nan\n",
      "medicarePartAEndDate nan\n",
      "medicarePartBStartDate nan\n",
      "medicarePartBEndDate nan\n",
      "healthInsuranceClaimNumber nan\n",
      "eventCode 2\n",
      "dependentSocialSecurityNumber nan\n",
      "dependentFirstName nan\n",
      "dependentMiddleName nan\n",
      "dependentLastName nan\n",
      "dependentDateOfBirth nan\n",
      "dependentGenderCode nan\n",
      "dependentEligibilityStartDate nan\n",
      "dependentEligibleIndicator nan\n",
      "dependentClientSpecificPlanId nan\n",
      "dependentClientSpecificDentalId nan\n",
      "dependentMedicarePartAStartDate nan\n",
      "dependentMedicarePartAEndDate nan\n",
      "dependentMedicarePartBStartDate nan\n",
      "dependentMedicarePartBEndDate nan\n",
      "dependentHealthInsuranceClaimNumber nan\n",
      "dependentEventCode nan\n",
      "phoneNumber1 5053320000\n",
      "phoneNumber2 5056810000\n",
      "emailAddress nan\n",
      "dependentEmailAddress nan\n",
      "addressLine1 123 Quality Assurance St\n",
      "addressLine2 nan\n",
      "addressLine3 nan\n",
      "cityName ALBUQUERQUE\n",
      "stateCode NM\n",
      "zipCode 87123\n",
      "countryCode USA\n",
      "countyName Bernalillo\n",
      "campaignSegmentGuid {A2468972-FEC0-41EC-9B8C-DBE04D6D1842}\n",
      "clientMemberId nan\n",
      "hraAllocationScheduleAmount nan\n",
      "hraAllocationScheduleFrequencyCode nan\n",
      "hraAllocationScheduleStartDate nan\n",
      "hasEndStageRenalDisease N\n",
      "dependentClientMemberId nan\n",
      "dependentHraAllocationScheduleAmount nan\n",
      "dependentHraAllocationScheduleFrequencyCode nan\n",
      "dependentHraAllocationScheduleStartDate nan\n",
      "dependentHasEndStageRenalDisease nan\n",
      "reportingValue1 nan\n",
      "reportingValue2 nan\n",
      "reportingValue3 nan\n",
      "reportingValue4 nan\n",
      "reportingValue5 nan\n",
      "eligibilityEndDate 20151109\n",
      "dependentEligibilityEndDate nan\n",
      "dependentRelationshipTypeId nan\n",
      "employerGroupCoverageStartDate nan\n",
      "employerGroupCoverageEndDate nan\n",
      "dependentEmployerGroupCoverageStartDate nan\n",
      "dependentEmployerGroupCoverageEndDate nan\n",
      "isVip N\n",
      "dependentCampaignSegmentGuid nan\n",
      "dependentReportingValue1 nan\n",
      "dependentReportingValue2 nan\n",
      "dependentReportingValue3 nan\n",
      "dependentReportingValue4 nan\n",
      "dependentReportingValue5 nan\n",
      "honorific nan\n",
      "dependentHonorific nan\n",
      "hraAllocationScheduleEndDate nan\n",
      "dependentHraAllocationScheduleEndDate nan\n",
      "previousClientMemberId nan\n",
      "dependentPreviousClientMemberId nan\n",
      "divisionCode nan\n",
      "dependentDivisionCode nan\n",
      "mailingAddress1 nan\n",
      "mailingAddress2 nan\n",
      "mailingAddressCityName nan\n",
      "mailingAddressStateCode nan\n",
      "mailingAddressZipCode nan\n",
      "mailingAddressCountryCode nan\n",
      "nextAllocationScheduleAmount nan\n",
      "nextAllocationScheduleFrequencyCode nan\n",
      "nextAllocationScheduleStartDate nan\n",
      "dateOfDeath 20200604\n",
      "dateOfDivorce nan\n",
      "dependentNextAllocationScheduleAmount nan\n",
      "dependentNextAllocationScheduleFrequencyCode nan\n",
      "dependentNextAllocationScheduleStartDate nan\n",
      "dependentDateOfDeath nan\n",
      "dependentDateOfDivorce nan\n",
      "participantCode nan\n",
      "dependentParticipantCode nan\n",
      "errorCode nan\n",
      "portalErrorCodes nan\n",
      "personMatches nan\n",
      "originalRowIndex nan\n"
     ]
    }
   ],
   "source": [
    "for x in test_data.columns:\n",
    "    print(x, test_data.at[0, x])"
   ]
  },
  {
   "cell_type": "code",
   "execution_count": 13,
   "metadata": {
    "ExecuteTime": {
     "end_time": "2020-09-11T19:01:55.543697Z",
     "start_time": "2020-09-11T19:01:55.525699Z"
    },
    "scrolled": false
   },
   "outputs": [
    {
     "name": "stdout",
     "output_type": "stream",
     "text": [
      "clientOriginalFileName 2013FormatTestFile.csv\n",
      "systemAssignedBaseFileName 2013FormatTestFile20191008_112620_OBFUSCATED.csv\n",
      "originalFileProcessingStartedAtTime 2019-10-08 11:26:20 -06:00\n",
      "socialSecurityNumber 444986757\n",
      "firstName Kenneth\n",
      "middleName R\n",
      "lastName KaefKecjQA\n",
      "dateOfBirth 19510817\n",
      "genderCode M\n",
      "eligibilityStartDate 20120701\n",
      "eligibleIndicator N\n",
      "clientSpecificPlanId nan\n",
      "clientSpecificDentalId nan\n",
      "medicarePartAStartDate 20101101\n",
      "medicarePartAEndDate nan\n",
      "medicarePartBStartDate 20101101\n",
      "medicarePartBEndDate nan\n",
      "healthInsuranceClaimNumber 100987757A\n",
      "eventCode nan\n",
      "dependentSocialSecurityNumber 129447898\n",
      "dependentFirstName PATRICIA\n",
      "dependentMiddleName nan\n",
      "dependentLastName KaefPcfbQA\n",
      "dependentDateOfBirth 19521017\n",
      "dependentGenderCode F\n",
      "dependentEligibilityStartDate 20120701\n",
      "dependentEligibleIndicator N\n",
      "dependentClientSpecificPlanId nan\n",
      "dependentClientSpecificDentalId nan\n",
      "dependentMedicarePartAStartDate nan\n",
      "dependentMedicarePartAEndDate nan\n",
      "dependentMedicarePartBStartDate nan\n",
      "dependentMedicarePartBEndDate nan\n",
      "dependentHealthInsuranceClaimNumber nan\n",
      "dependentEventCode nan\n",
      "phoneNumber1 3364710000\n",
      "phoneNumber2 3368690000\n",
      "emailAddress testextend+qa@gmail.com\n",
      "dependentEmailAddress testextend+dependent+qa@gmail.com\n",
      "addressLine1 123 Quality Assurance St\n",
      "addressLine2 nan\n",
      "addressLine3 nan\n",
      "cityName HIGH POINT\n",
      "stateCode NC\n",
      "zipCode 27265\n",
      "countryCode USA\n",
      "countyName Guilford\n",
      "campaignSegmentGuid {9CA5D30C-13D2-40F7-B14C-1A2F0EAD15DD}\n",
      "clientMemberId nan\n",
      "hraAllocationScheduleAmount 2000\n",
      "hraAllocationScheduleFrequencyCode A\n",
      "hraAllocationScheduleStartDate 20120701\n",
      "hasEndStageRenalDisease N\n",
      "dependentClientMemberId nan\n",
      "dependentHraAllocationScheduleAmount 2000\n",
      "dependentHraAllocationScheduleFrequencyCode A\n",
      "dependentHraAllocationScheduleStartDate 20120701\n",
      "dependentHasEndStageRenalDisease N\n",
      "reportingValue1 nan\n",
      "reportingValue2 nan\n",
      "reportingValue3 nan\n",
      "reportingValue4 nan\n",
      "reportingValue5 nan\n",
      "eligibilityEndDate 20160731\n",
      "dependentEligibilityEndDate 20170930\n",
      "dependentRelationshipTypeId 6\n",
      "employerGroupCoverageStartDate nan\n",
      "employerGroupCoverageEndDate nan\n",
      "dependentEmployerGroupCoverageStartDate nan\n",
      "dependentEmployerGroupCoverageEndDate nan\n",
      "isVip N\n",
      "dependentCampaignSegmentGuid {9CA5D30C-13D2-40F7-B14C-1A2F0EAD15DD}\n",
      "dependentReportingValue1 nan\n",
      "dependentReportingValue2 nan\n",
      "dependentReportingValue3 nan\n",
      "dependentReportingValue4 nan\n",
      "dependentReportingValue5 nan\n",
      "honorific nan\n",
      "dependentHonorific nan\n",
      "hraAllocationScheduleEndDate nan\n",
      "dependentHraAllocationScheduleEndDate nan\n",
      "previousClientMemberId nan\n",
      "dependentPreviousClientMemberId nan\n",
      "divisionCode nan\n",
      "dependentDivisionCode nan\n",
      "mailingAddress1 nan\n",
      "mailingAddress2 nan\n",
      "mailingAddressCityName nan\n",
      "mailingAddressStateCode nan\n",
      "mailingAddressZipCode nan\n",
      "mailingAddressCountryCode nan\n",
      "nextAllocationScheduleAmount nan\n",
      "nextAllocationScheduleFrequencyCode O\n",
      "nextAllocationScheduleStartDate nan\n",
      "dateOfDeath nan\n",
      "dateOfDivorce nan\n",
      "dependentNextAllocationScheduleAmount nan\n",
      "dependentNextAllocationScheduleFrequencyCode O\n",
      "dependentNextAllocationScheduleStartDate nan\n",
      "dependentDateOfDeath nan\n",
      "dependentDateOfDivorce nan\n",
      "participantCode nan\n",
      "dependentParticipantCode nan\n",
      "errorCode nan\n",
      "portalErrorCodes nan\n",
      "personMatches nan\n",
      "originalRowIndex nan\n"
     ]
    }
   ],
   "source": [
    "for x in test_data.columns:\n",
    "    print(x, test_data.at[1, x])"
   ]
  }
 ],
 "metadata": {
  "kernelspec": {
   "display_name": "Python 3",
   "language": "python",
   "name": "python3"
  },
  "language_info": {
   "codemirror_mode": {
    "name": "ipython",
    "version": 3
   },
   "file_extension": ".py",
   "mimetype": "text/x-python",
   "name": "python",
   "nbconvert_exporter": "python",
   "pygments_lexer": "ipython3",
   "version": "3.8.3"
  },
  "toc": {
   "base_numbering": 1,
   "nav_menu": {},
   "number_sections": true,
   "sideBar": true,
   "skip_h1_title": false,
   "title_cell": "Table of Contents",
   "title_sidebar": "Contents",
   "toc_cell": false,
   "toc_position": {},
   "toc_section_display": true,
   "toc_window_display": true
  }
 },
 "nbformat": 4,
 "nbformat_minor": 4
}
