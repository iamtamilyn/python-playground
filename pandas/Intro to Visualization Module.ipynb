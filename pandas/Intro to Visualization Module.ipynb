{
 "cells": [
  {
   "cell_type": "markdown",
   "metadata": {
    "toc": true
   },
   "source": [
    "<h1>Table of Contents<span class=\"tocSkip\"></span></h1>\n",
    "<div class=\"toc\"><ul class=\"toc-item\"><li><span><a href=\"#the-.plot()-Method\" data-toc-modified-id=\"the-.plot()-Method-1\"><span class=\"toc-item-num\">1&nbsp;&nbsp;</span>the <code>.plot()</code> Method</a></span></li><li><span><a href=\"#Modifying-Aesthetics\" data-toc-modified-id=\"Modifying-Aesthetics-2\"><span class=\"toc-item-num\">2&nbsp;&nbsp;</span>Modifying Aesthetics</a></span></li><li><span><a href=\"#BarCharts\" data-toc-modified-id=\"BarCharts-3\"><span class=\"toc-item-num\">3&nbsp;&nbsp;</span>BarCharts</a></span></li><li><span><a href=\"#Pie-Chart\" data-toc-modified-id=\"Pie-Chart-4\"><span class=\"toc-item-num\">4&nbsp;&nbsp;</span>Pie Chart</a></span></li><li><span><a href=\"#Historgram\" data-toc-modified-id=\"Historgram-5\"><span class=\"toc-item-num\">5&nbsp;&nbsp;</span>Historgram</a></span></li></ul></div>"
   ]
  },
  {
   "cell_type": "code",
   "execution_count": null,
   "metadata": {
    "init_cell": true
   },
   "outputs": [],
   "source": [
    "import pandas as pd\n",
    "from pandas_datareader import data\n",
    "import matplotlib.pyplot as plt\n",
    "\n",
    "#want graphs inline with Jupyter, use magic\n",
    "%matplotlib inline"
   ]
  },
  {
   "cell_type": "markdown",
   "metadata": {
    "heading_collapsed": true
   },
   "source": [
    "# the `.plot()` Method"
   ]
  },
  {
   "cell_type": "code",
   "execution_count": null,
   "metadata": {
    "hidden": true
   },
   "outputs": [],
   "source": [
    "ts = data.DataReader(name = \"TSLA\", data_source = \"yahoo\", start = \"2010-07-01\", end = \"2012-12-01\")\n",
    "ts.head()"
   ]
  },
  {
   "cell_type": "code",
   "execution_count": null,
   "metadata": {
    "hidden": true
   },
   "outputs": [],
   "source": [
    "ts.plot()"
   ]
  },
  {
   "cell_type": "code",
   "execution_count": null,
   "metadata": {
    "hidden": true
   },
   "outputs": [],
   "source": [
    "# x default to index\n",
    "ts.plot(y = \"High\")"
   ]
  },
  {
   "cell_type": "code",
   "execution_count": null,
   "metadata": {
    "hidden": true
   },
   "outputs": [],
   "source": [
    "ts[\"Close\"].plot()"
   ]
  },
  {
   "cell_type": "code",
   "execution_count": null,
   "metadata": {
    "hidden": true
   },
   "outputs": [],
   "source": [
    "ts[[\"High\", \"Low\"]].plot()"
   ]
  },
  {
   "cell_type": "markdown",
   "metadata": {},
   "source": [
    "# Modifying Aesthetics"
   ]
  },
  {
   "cell_type": "code",
   "execution_count": null,
   "metadata": {},
   "outputs": [],
   "source": [
    "ts = data.DataReader(name = \"TSLA\", data_source = \"yahoo\", start = \"2010-07-01\", end = \"2012-12-01\")\n",
    "ts.head()"
   ]
  },
  {
   "cell_type": "code",
   "execution_count": null,
   "metadata": {},
   "outputs": [],
   "source": [
    "plt.style.available"
   ]
  },
  {
   "cell_type": "code",
   "execution_count": null,
   "metadata": {},
   "outputs": [],
   "source": [
    "# style changes the style for the entire notebook, have to change again\n",
    "plt.style.use(\"fivethirtyeight\")\n",
    "ts.plot(y = \"Close\")"
   ]
  },
  {
   "cell_type": "code",
   "execution_count": null,
   "metadata": {},
   "outputs": [],
   "source": [
    "plt.style.use(\"dark_background\")\n",
    "ts.plot(y = \"Close\")"
   ]
  },
  {
   "cell_type": "code",
   "execution_count": null,
   "metadata": {},
   "outputs": [],
   "source": [
    "plt.style.use(\"ggplot\")\n",
    "ts.plot(y = \"Close\")"
   ]
  },
  {
   "cell_type": "code",
   "execution_count": null,
   "metadata": {},
   "outputs": [],
   "source": [
    "ts.plot(y = \"High\")"
   ]
  },
  {
   "cell_type": "markdown",
   "metadata": {
    "heading_collapsed": true
   },
   "source": [
    "# BarCharts"
   ]
  },
  {
   "cell_type": "code",
   "execution_count": null,
   "metadata": {
    "hidden": true
   },
   "outputs": [],
   "source": [
    "google = data.DataReader(name = \"GOOG\", data_source = \"yahoo\", start = \"2004-07-01\", end = \"2016-12-31\")\n",
    "google.head()"
   ]
  },
  {
   "cell_type": "code",
   "execution_count": null,
   "metadata": {
    "hidden": true
   },
   "outputs": [],
   "source": [
    "def rank_performance(stock_price):\n",
    "    if stock_price <= 200:\n",
    "        return \"Poor\"\n",
    "    elif stock_price > 200 and stock_price <= 500:\n",
    "        return \"Satisfactory\"\n",
    "    else: \n",
    "        return \"Stellar\""
   ]
  },
  {
   "cell_type": "code",
   "execution_count": null,
   "metadata": {
    "hidden": true
   },
   "outputs": [],
   "source": [
    "google[\"Close\"].apply(rank_performance).value_counts().plot(kind = \"line\")"
   ]
  },
  {
   "cell_type": "code",
   "execution_count": null,
   "metadata": {
    "hidden": true
   },
   "outputs": [],
   "source": [
    "plt.style.use(\"seaborn-white\")\n",
    "google[\"Close\"].apply(rank_performance).value_counts().plot(kind = \"bar\")"
   ]
  },
  {
   "cell_type": "code",
   "execution_count": null,
   "metadata": {
    "hidden": true
   },
   "outputs": [],
   "source": [
    "google[\"Close\"].apply(rank_performance).value_counts().plot(kind = \"barh\")"
   ]
  },
  {
   "cell_type": "markdown",
   "metadata": {
    "heading_collapsed": true
   },
   "source": [
    "# Pie Chart"
   ]
  },
  {
   "cell_type": "code",
   "execution_count": null,
   "metadata": {
    "hidden": true
   },
   "outputs": [],
   "source": [
    "apple = data.DataReader(name = \"AAPL\", data_source = \"yahoo\", start = \"2012-07-01\", end = \"2016-12-31\")\n",
    "apple.head()"
   ]
  },
  {
   "cell_type": "code",
   "execution_count": null,
   "metadata": {
    "hidden": true
   },
   "outputs": [],
   "source": [
    "apple[\"Close\"].mean()"
   ]
  },
  {
   "cell_type": "code",
   "execution_count": null,
   "metadata": {
    "hidden": true
   },
   "outputs": [],
   "source": [
    "def rank_performance(stock_price):\n",
    "    if stock_price >= 95.1086205586015:\n",
    "        return \"Above Average\"\n",
    "    else:\n",
    "        return \"Below Average\""
   ]
  },
  {
   "cell_type": "code",
   "execution_count": null,
   "metadata": {
    "hidden": true
   },
   "outputs": [],
   "source": [
    "apple[\"Close\"].apply(rank_performance).value_counts().plot(kind = \"pie\")"
   ]
  },
  {
   "cell_type": "code",
   "execution_count": null,
   "metadata": {
    "hidden": true
   },
   "outputs": [],
   "source": [
    "apple[\"Close\"].apply(rank_performance).value_counts().plot(kind = \"pie\", legend = True)"
   ]
  },
  {
   "cell_type": "markdown",
   "metadata": {},
   "source": [
    "# Historgram"
   ]
  },
  {
   "cell_type": "code",
   "execution_count": null,
   "metadata": {},
   "outputs": [],
   "source": [
    "google = data.DataReader(name = \"GOOG\", data_source = \"yahoo\", start = \"2004-07-01\", end = \"2016-12-31\")\n",
    "google.head()"
   ]
  },
  {
   "cell_type": "code",
   "execution_count": null,
   "metadata": {},
   "outputs": [],
   "source": [
    "def custom_round(stock_price):\n",
    "    return int(stock_price / 100.0) * 100"
   ]
  },
  {
   "cell_type": "code",
   "execution_count": null,
   "metadata": {},
   "outputs": [],
   "source": [
    "google[\"High\"].apply(custom_round).value_counts().sort_index()"
   ]
  },
  {
   "cell_type": "code",
   "execution_count": null,
   "metadata": {},
   "outputs": [],
   "source": [
    "google[\"High\"].apply(custom_round).nunique()"
   ]
  },
  {
   "cell_type": "code",
   "execution_count": null,
   "metadata": {},
   "outputs": [],
   "source": [
    "plt.style.use(\"seaborn\")\n",
    "google[\"High\"].apply(custom_round).plot(kind = \"hist\", bins = 9)"
   ]
  }
 ],
 "metadata": {
  "kernelspec": {
   "display_name": "Python 3",
   "language": "python",
   "name": "python3"
  },
  "language_info": {
   "codemirror_mode": {
    "name": "ipython",
    "version": 3
   },
   "file_extension": ".py",
   "mimetype": "text/x-python",
   "name": "python",
   "nbconvert_exporter": "python",
   "pygments_lexer": "ipython3",
   "version": "3.7.6"
  },
  "toc": {
   "base_numbering": 1,
   "nav_menu": {},
   "number_sections": true,
   "sideBar": true,
   "skip_h1_title": false,
   "title_cell": "Table of Contents",
   "title_sidebar": "Contents",
   "toc_cell": true,
   "toc_position": {},
   "toc_section_display": true,
   "toc_window_display": true
  }
 },
 "nbformat": 4,
 "nbformat_minor": 4
}
