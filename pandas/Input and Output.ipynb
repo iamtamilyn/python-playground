{
 "cells": [
  {
   "cell_type": "markdown",
   "metadata": {
    "toc": true
   },
   "source": [
    "<h1>Table of Contents<span class=\"tocSkip\"></span></h1>\n",
    "<div class=\"toc\"><ul class=\"toc-item\"><li><span><a href=\"#Feed-pd.read_csv()-Method-a-URL-Argument\" data-toc-modified-id=\"Feed-pd.read_csv()-Method-a-URL-Argument-1\"><span class=\"toc-item-num\">1&nbsp;&nbsp;</span>Feed <code>pd.read_csv()</code> Method a URL Argument</a></span></li><li><span><a href=\"#Quick-Object-Conversions\" data-toc-modified-id=\"Quick-Object-Conversions-2\"><span class=\"toc-item-num\">2&nbsp;&nbsp;</span>Quick Object Conversions</a></span></li><li><span><a href=\"#Export-CSV-File-with-the-.to_csv()-Method\" data-toc-modified-id=\"Export-CSV-File-with-the-.to_csv()-Method-3\"><span class=\"toc-item-num\">3&nbsp;&nbsp;</span>Export CSV File with the <code>.to_csv()</code> Method</a></span></li><li><span><a href=\"#Import-Excel-File-into-Pandas\" data-toc-modified-id=\"Import-Excel-File-into-Pandas-4\"><span class=\"toc-item-num\">4&nbsp;&nbsp;</span>Import Excel File into Pandas</a></span></li><li><span><a href=\"#Export-Excel-File\" data-toc-modified-id=\"Export-Excel-File-5\"><span class=\"toc-item-num\">5&nbsp;&nbsp;</span>Export Excel File</a></span></li></ul></div>"
   ]
  },
  {
   "cell_type": "code",
   "execution_count": null,
   "metadata": {},
   "outputs": [],
   "source": [
    "import pandas as pd"
   ]
  },
  {
   "cell_type": "markdown",
   "metadata": {},
   "source": [
    "# Feed `pd.read_csv()` Method a URL Argument"
   ]
  },
  {
   "cell_type": "code",
   "execution_count": null,
   "metadata": {},
   "outputs": [],
   "source": [
    "URL = \"https://data.cityofnewyork.us/resource/25th-nujf.csv\"\n",
    "baby_names = pd.read_csv(URL)\n",
    "baby_names.head()"
   ]
  },
  {
   "cell_type": "markdown",
   "metadata": {},
   "source": [
    "# Quick Object Conversions"
   ]
  },
  {
   "cell_type": "code",
   "execution_count": null,
   "metadata": {},
   "outputs": [],
   "source": [
    "URL = \"https://data.cityofnewyork.us/resource/25th-nujf.csv\"\n",
    "baby_names = pd.read_csv(URL)\n",
    "baby_names.head()"
   ]
  },
  {
   "cell_type": "code",
   "execution_count": null,
   "metadata": {},
   "outputs": [],
   "source": [
    "baby_names[\"nm\"]"
   ]
  },
  {
   "cell_type": "code",
   "execution_count": null,
   "metadata": {},
   "outputs": [],
   "source": [
    "baby_names[\"nm\"].tolist()"
   ]
  },
  {
   "cell_type": "code",
   "execution_count": null,
   "metadata": {},
   "outputs": [],
   "source": [
    "baby_names[\"nm\"].to_frame()"
   ]
  },
  {
   "cell_type": "code",
   "execution_count": null,
   "metadata": {},
   "outputs": [],
   "source": [
    "# convert from series to comma seperated list. \n",
    "\", \".join(str(name) for name in baby_names[\"nm\"])"
   ]
  },
  {
   "cell_type": "markdown",
   "metadata": {},
   "source": [
    "# Export CSV File with the `.to_csv()` Method"
   ]
  },
  {
   "cell_type": "code",
   "execution_count": null,
   "metadata": {},
   "outputs": [],
   "source": [
    "URL = \"https://data.cityofnewyork.us/resource/25th-nujf.csv\"\n",
    "baby_names = pd.read_csv(URL)\n",
    "baby_names.head()"
   ]
  },
  {
   "cell_type": "code",
   "execution_count": null,
   "metadata": {},
   "outputs": [],
   "source": [
    "# import to include \".csv\" in file name\n",
    "baby_names.to_csv(\"NYC Baby Names.csv\", index = False, columns = [\"brth_yr\", \"nm\", \"cnt\"])"
   ]
  },
  {
   "cell_type": "code",
   "execution_count": null,
   "metadata": {},
   "outputs": [],
   "source": [
    "# encoding = \"utf-8\" can be added for encoding errors. "
   ]
  },
  {
   "cell_type": "markdown",
   "metadata": {},
   "source": [
    "# Import Excel File into Pandas"
   ]
  },
  {
   "cell_type": "code",
   "execution_count": null,
   "metadata": {},
   "outputs": [],
   "source": [
    "import xlrd\n",
    "import openpyxl"
   ]
  },
  {
   "cell_type": "code",
   "execution_count": null,
   "metadata": {},
   "outputs": [],
   "source": [
    "df = pd.read_excel(\"Data - Single Worksheet.xlsx\")\n",
    "df"
   ]
  },
  {
   "cell_type": "code",
   "execution_count": null,
   "metadata": {},
   "outputs": [],
   "source": [
    "#pull one sheet\n",
    "pd.read_excel(\"Data - Multiple Worksheets.xlsx\", sheet_name = 0)\n",
    "pd.read_excel(\"Data - Multiple Worksheets.xlsx\", sheet_name = \"Data 1\")"
   ]
  },
  {
   "cell_type": "code",
   "execution_count": null,
   "metadata": {},
   "outputs": [],
   "source": [
    "# pull multiple\n",
    "pd.read_excel(\"Data - Multiple Worksheets.xlsx\", sheet_name = [0, 1])\n",
    "data = pd.read_excel(\"Data - Multiple Worksheets.xlsx\", sheet_name = [\"Data 1\", \"Data 2\"])\n",
    "data"
   ]
  },
  {
   "cell_type": "code",
   "execution_count": null,
   "metadata": {},
   "outputs": [],
   "source": [
    "type(data)"
   ]
  },
  {
   "cell_type": "code",
   "execution_count": null,
   "metadata": {},
   "outputs": [],
   "source": [
    "data[\"Data 1\"]"
   ]
  },
  {
   "cell_type": "code",
   "execution_count": null,
   "metadata": {},
   "outputs": [],
   "source": [
    "data[\"Data 2\"]"
   ]
  },
  {
   "cell_type": "code",
   "execution_count": null,
   "metadata": {},
   "outputs": [],
   "source": [
    "# None brings all.\n",
    "pd.read_excel(\"Data - Multiple Worksheets.xlsx\", sheet_name = None)"
   ]
  },
  {
   "cell_type": "markdown",
   "metadata": {},
   "source": [
    "# Export Excel File"
   ]
  },
  {
   "cell_type": "code",
   "execution_count": null,
   "metadata": {},
   "outputs": [],
   "source": [
    "URL = \"https://data.cityofnewyork.us/resource/25th-nujf.csv\"\n",
    "baby_names = pd.read_csv(URL)\n",
    "baby_names.head()"
   ]
  },
  {
   "cell_type": "code",
   "execution_count": null,
   "metadata": {},
   "outputs": [],
   "source": [
    "girls = baby_names[baby_names[\"gndr\"] == \"FEMALE\"]\n",
    "boys = baby_names[baby_names[\"gndr\"] == \"MALE\"]"
   ]
  },
  {
   "cell_type": "code",
   "execution_count": null,
   "metadata": {},
   "outputs": [],
   "source": [
    "girls.head()"
   ]
  },
  {
   "cell_type": "code",
   "execution_count": null,
   "metadata": {},
   "outputs": [],
   "source": [
    "boys.head()"
   ]
  },
  {
   "cell_type": "code",
   "execution_count": null,
   "metadata": {},
   "outputs": [],
   "source": [
    "excel_file = pd.ExcelWriter(\"Baby Names.xlsx\")"
   ]
  },
  {
   "cell_type": "code",
   "execution_count": null,
   "metadata": {},
   "outputs": [],
   "source": [
    "# queue data to be written\n",
    "grils.to_excel(excel_file, sheet_name = \"Girls\", index = False)\n",
    "boys.to_excel(excel_file, sheet_name = \"Boys\", index = False, columns = [\"gndr\", \"nm\", \"cnt\"])"
   ]
  },
  {
   "cell_type": "code",
   "execution_count": null,
   "metadata": {},
   "outputs": [],
   "source": [
    "# save to create the file\n",
    "excel_file.save()"
   ]
  }
 ],
 "metadata": {
  "kernelspec": {
   "display_name": "Python 3",
   "language": "python",
   "name": "python3"
  },
  "language_info": {
   "codemirror_mode": {
    "name": "ipython",
    "version": 3
   },
   "file_extension": ".py",
   "mimetype": "text/x-python",
   "name": "python",
   "nbconvert_exporter": "python",
   "pygments_lexer": "ipython3",
   "version": "3.8.1"
  },
  "toc": {
   "base_numbering": 1,
   "nav_menu": {},
   "number_sections": true,
   "sideBar": true,
   "skip_h1_title": false,
   "title_cell": "Table of Contents",
   "title_sidebar": "Contents",
   "toc_cell": true,
   "toc_position": {},
   "toc_section_display": true,
   "toc_window_display": true
  }
 },
 "nbformat": 4,
 "nbformat_minor": 4
}
