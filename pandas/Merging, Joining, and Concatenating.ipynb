{
 "cells": [
  {
   "cell_type": "code",
   "execution_count": null,
   "metadata": {},
   "outputs": [],
   "source": [
    "import pandas as pd"
   ]
  },
  {
   "cell_type": "code",
   "execution_count": null,
   "metadata": {},
   "outputs": [],
   "source": [
    "week1 = pd.read_csv(\"Restaurant - Week 1 Sales.csv\")\n",
    "week2 = pd.read_csv(\"Restaurant - Week 2 Sales.csv\")\n",
    "customers = pd.read_csv(\"Restaurant - Customers.csv\")\n",
    "foods = pd.read_csv(\"Restaurant - Foods.csv\")"
   ]
  },
  {
   "cell_type": "markdown",
   "metadata": {},
   "source": [
    "# The `pd.concat()` Method, Part 1"
   ]
  },
  {
   "cell_type": "code",
   "execution_count": null,
   "metadata": {},
   "outputs": [],
   "source": [
    "week1 = pd.read_csv(\"Restaurant - Week 1 Sales.csv\")\n",
    "week2 = pd.read_csv(\"Restaurant - Week 2 Sales.csv\")\n",
    "customers = pd.read_csv(\"Restaurant - Customers.csv\")\n",
    "foods = pd.read_csv(\"Restaurant - Foods.csv\")"
   ]
  },
  {
   "cell_type": "code",
   "execution_count": null,
   "metadata": {},
   "outputs": [],
   "source": [
    "len(week1)"
   ]
  },
  {
   "cell_type": "code",
   "execution_count": null,
   "metadata": {},
   "outputs": [],
   "source": [
    "len(week2)"
   ]
  },
  {
   "cell_type": "code",
   "execution_count": null,
   "metadata": {},
   "outputs": [],
   "source": [
    "# adding week 2 at the bottom of week 1. \n",
    "pd.concat([week1,week2])\n",
    "len(pd.concat([week1,week2]))"
   ]
  },
  {
   "cell_type": "code",
   "execution_count": null,
   "metadata": {},
   "outputs": [],
   "source": [
    "pd.concat([week1,week2], ignore_index = True)"
   ]
  },
  {
   "cell_type": "markdown",
   "metadata": {},
   "source": [
    "# The `pd.concat()` Method, Part 2"
   ]
  },
  {
   "cell_type": "code",
   "execution_count": null,
   "metadata": {},
   "outputs": [],
   "source": [
    "week1 = pd.read_csv(\"Restaurant - Week 1 Sales.csv\")\n",
    "week2 = pd.read_csv(\"Restaurant - Week 2 Sales.csv\")\n",
    "customers = pd.read_csv(\"Restaurant - Customers.csv\")\n",
    "foods = pd.read_csv(\"Restaurant - Foods.csv\")"
   ]
  },
  {
   "cell_type": "code",
   "execution_count": null,
   "metadata": {},
   "outputs": [],
   "source": [
    "# similar to SQL UNION. "
   ]
  },
  {
   "cell_type": "code",
   "execution_count": null,
   "metadata": {},
   "outputs": [],
   "source": [
    "# extra index layer. disregard ingore index, since their grouped. \n",
    "sales = pd.concat([week1,week2], keys = [\"Week 1\", \"Week 2\"])\n",
    "sales"
   ]
  },
  {
   "cell_type": "code",
   "execution_count": null,
   "metadata": {},
   "outputs": [],
   "source": [
    "# can go back to looking at the group of data after concat. \n",
    "sales.loc[\"Week 1\"]"
   ]
  },
  {
   "cell_type": "markdown",
   "metadata": {},
   "source": [
    "# The `.append()` Method"
   ]
  },
  {
   "cell_type": "code",
   "execution_count": null,
   "metadata": {},
   "outputs": [],
   "source": [
    "week1 = pd.read_csv(\"Restaurant - Week 1 Sales.csv\")\n",
    "week2 = pd.read_csv(\"Restaurant - Week 2 Sales.csv\")\n",
    "customers = pd.read_csv(\"Restaurant - Customers.csv\")\n",
    "foods = pd.read_csv(\"Restaurant - Foods.csv\")"
   ]
  },
  {
   "cell_type": "code",
   "execution_count": null,
   "metadata": {},
   "outputs": [],
   "source": [
    "sales = week2.append(week1, ignore_index = True)\n",
    "sales"
   ]
  },
  {
   "cell_type": "markdown",
   "metadata": {},
   "source": [
    "# Inner Joins, Part 1"
   ]
  },
  {
   "cell_type": "code",
   "execution_count": null,
   "metadata": {},
   "outputs": [],
   "source": [
    "week1 = pd.read_csv(\"Restaurant - Week 1 Sales.csv\")\n",
    "week2 = pd.read_csv(\"Restaurant - Week 2 Sales.csv\")\n",
    "customers = pd.read_csv(\"Restaurant - Customers.csv\")\n",
    "foods = pd.read_csv(\"Restaurant - Foods.csv\")"
   ]
  },
  {
   "cell_type": "code",
   "execution_count": null,
   "metadata": {},
   "outputs": [],
   "source": [
    "week1.head()"
   ]
  },
  {
   "cell_type": "code",
   "execution_count": null,
   "metadata": {},
   "outputs": [],
   "source": [
    "week2.head()"
   ]
  },
  {
   "cell_type": "code",
   "execution_count": null,
   "metadata": {},
   "outputs": [],
   "source": [
    "# need same column names, or extra work\n",
    "# default INNER\n",
    "week1.merge(week2, how = \"inner\", on = \"Customer ID\", suffixes = [\" - Week 1\",\" - Week 2\"])"
   ]
  },
  {
   "cell_type": "code",
   "execution_count": null,
   "metadata": {},
   "outputs": [],
   "source": [
    "week1[week1[\"Customer ID\"] == 155]"
   ]
  },
  {
   "cell_type": "code",
   "execution_count": null,
   "metadata": {},
   "outputs": [],
   "source": [
    "week2[week2[\"Customer ID\"] == 155]"
   ]
  },
  {
   "cell_type": "markdown",
   "metadata": {},
   "source": [
    "# Inner Joins, Part 2"
   ]
  },
  {
   "cell_type": "code",
   "execution_count": null,
   "metadata": {},
   "outputs": [],
   "source": [
    "week1 = pd.read_csv(\"Restaurant - Week 1 Sales.csv\")\n",
    "week2 = pd.read_csv(\"Restaurant - Week 2 Sales.csv\")\n",
    "customers = pd.read_csv(\"Restaurant - Customers.csv\")\n",
    "foods = pd.read_csv(\"Restaurant - Foods.csv\")"
   ]
  },
  {
   "cell_type": "code",
   "execution_count": null,
   "metadata": {},
   "outputs": [],
   "source": [
    "week1.head()"
   ]
  },
  {
   "cell_type": "code",
   "execution_count": null,
   "metadata": {},
   "outputs": [],
   "source": [
    "week2.head()"
   ]
  },
  {
   "cell_type": "code",
   "execution_count": null,
   "metadata": {},
   "outputs": [],
   "source": [
    "#note Customer 21 showing twice with Food 4, had 2 rows in week 1. Customer 578 reversed situation. \n",
    "week1.merge(week2, how='inner', on = [\"Customer ID\",\"Food ID\"])"
   ]
  },
  {
   "cell_type": "markdown",
   "metadata": {},
   "source": [
    "# Outer Joins"
   ]
  },
  {
   "cell_type": "code",
   "execution_count": null,
   "metadata": {},
   "outputs": [],
   "source": [
    "week1 = pd.read_csv(\"Restaurant - Week 1 Sales.csv\")\n",
    "week2 = pd.read_csv(\"Restaurant - Week 2 Sales.csv\")\n",
    "customers = pd.read_csv(\"Restaurant - Customers.csv\")\n",
    "foods = pd.read_csv(\"Restaurant - Foods.csv\")"
   ]
  },
  {
   "cell_type": "code",
   "execution_count": null,
   "metadata": {},
   "outputs": [],
   "source": [
    "week1.head()"
   ]
  },
  {
   "cell_type": "code",
   "execution_count": null,
   "metadata": {},
   "outputs": [],
   "source": [
    "week2.head()"
   ]
  },
  {
   "cell_type": "code",
   "execution_count": null,
   "metadata": {},
   "outputs": [],
   "source": [
    "merged = week1.merge(week2, how = \"outer\", on = \"Customer ID\", suffixes = [\" - Week 1\",\" - Week 2\"], indicator = True)\n",
    "merged"
   ]
  },
  {
   "cell_type": "code",
   "execution_count": null,
   "metadata": {},
   "outputs": [],
   "source": [
    "merged[\"_merge\"].value_counts()"
   ]
  },
  {
   "cell_type": "code",
   "execution_count": null,
   "metadata": {},
   "outputs": [],
   "source": [
    "mask= merged[\"_merge\"].isin([\"left_only\",\"right_only\"])\n",
    "merged[mask]"
   ]
  },
  {
   "cell_type": "markdown",
   "metadata": {},
   "source": [
    "# Left Joins"
   ]
  },
  {
   "cell_type": "code",
   "execution_count": null,
   "metadata": {},
   "outputs": [],
   "source": [
    "week1 = pd.read_csv(\"Restaurant - Week 1 Sales.csv\")\n",
    "week2 = pd.read_csv(\"Restaurant - Week 2 Sales.csv\")\n",
    "customers = pd.read_csv(\"Restaurant - Customers.csv\")\n",
    "foods = pd.read_csv(\"Restaurant - Foods.csv\")"
   ]
  },
  {
   "cell_type": "code",
   "execution_count": null,
   "metadata": {},
   "outputs": [],
   "source": [
    "foods"
   ]
  },
  {
   "cell_type": "code",
   "execution_count": null,
   "metadata": {},
   "outputs": [],
   "source": [
    "# sort: sorts on the matching values \"on\" column\n",
    "week1 = week1.merge(foods, how = \"left\", on = \"Food ID\", sort = True)\n",
    "week1"
   ]
  },
  {
   "cell_type": "markdown",
   "metadata": {},
   "source": [
    "# The `left_on` and `right_on` Parameters"
   ]
  },
  {
   "cell_type": "code",
   "execution_count": null,
   "metadata": {},
   "outputs": [],
   "source": [
    "week1 = pd.read_csv(\"Restaurant - Week 1 Sales.csv\")\n",
    "week2 = pd.read_csv(\"Restaurant - Week 2 Sales.csv\")\n",
    "customers = pd.read_csv(\"Restaurant - Customers.csv\")\n",
    "foods = pd.read_csv(\"Restaurant - Foods.csv\")"
   ]
  },
  {
   "cell_type": "code",
   "execution_count": null,
   "metadata": {},
   "outputs": [],
   "source": [
    "week2.head()"
   ]
  },
  {
   "cell_type": "code",
   "execution_count": null,
   "metadata": {},
   "outputs": [],
   "source": [
    "customers.head()"
   ]
  },
  {
   "cell_type": "code",
   "execution_count": null,
   "metadata": {},
   "outputs": [],
   "source": [
    "#keeps both right on and left on columsn by default\n",
    "week2.merge(customers, how = \"left\", left_on = \"Customer ID\", right_on = \"ID\", sort = True).drop(\"ID\", axis = \"columns\")"
   ]
  },
  {
   "cell_type": "markdown",
   "metadata": {},
   "source": [
    "# Merging by Indexes with the `left_index` and `right_index` Parameters"
   ]
  },
  {
   "cell_type": "code",
   "execution_count": null,
   "metadata": {},
   "outputs": [],
   "source": [
    "week1 = pd.read_csv(\"Restaurant - Week 1 Sales.csv\")\n",
    "week2 = pd.read_csv(\"Restaurant - Week 2 Sales.csv\")\n",
    "customers = pd.read_csv(\"Restaurant - Customers.csv\", index_col = \"ID\")\n",
    "foods = pd.read_csv(\"Restaurant - Foods.csv\", index_col = \"Food ID\")"
   ]
  },
  {
   "cell_type": "code",
   "execution_count": null,
   "metadata": {},
   "outputs": [],
   "source": [
    "customers.head()"
   ]
  },
  {
   "cell_type": "code",
   "execution_count": null,
   "metadata": {},
   "outputs": [],
   "source": [
    "foods.head()"
   ]
  },
  {
   "cell_type": "code",
   "execution_count": null,
   "metadata": {},
   "outputs": [],
   "source": [
    "week1.head()\n",
    "sales = week1.merge(customers, how = \"left\", left_on = \"Customer ID\", right_index = True)\n",
    "sales.head()"
   ]
  },
  {
   "cell_type": "code",
   "execution_count": null,
   "metadata": {},
   "outputs": [],
   "source": [
    "sales = sales.merge(foods, how=\"left\", left_on = \"Food ID\", right_index = True)\n",
    "sales.head()"
   ]
  },
  {
   "cell_type": "code",
   "execution_count": null,
   "metadata": {},
   "outputs": [],
   "source": [
    "week1.head()"
   ]
  },
  {
   "cell_type": "code",
   "execution_count": null,
   "metadata": {},
   "outputs": [],
   "source": [
    "week2.head()"
   ]
  },
  {
   "cell_type": "code",
   "execution_count": null,
   "metadata": {},
   "outputs": [],
   "source": [
    "week1.merge(week2, how = \"left\", left_index = True, right_index = True, suffixes = [\" - 1\", \" - 2\"])"
   ]
  },
  {
   "cell_type": "markdown",
   "metadata": {},
   "source": [
    "# The `.join()` Method"
   ]
  },
  {
   "cell_type": "code",
   "execution_count": null,
   "metadata": {},
   "outputs": [],
   "source": [
    "week1 = pd.read_csv(\"Restaurant - Week 1 Sales.csv\")\n",
    "week2 = pd.read_csv(\"Restaurant - Week 2 Sales.csv\")\n",
    "customers = pd.read_csv(\"Restaurant - Customers.csv\")\n",
    "foods = pd.read_csv(\"Restaurant - Foods.csv\")\n",
    "satisfaction = pd.read_csv(\"Restaurant - Week 1 Satisfaction.csv\")"
   ]
  },
  {
   "cell_type": "code",
   "execution_count": null,
   "metadata": {},
   "outputs": [],
   "source": [
    "satisfaction.head()"
   ]
  },
  {
   "cell_type": "code",
   "execution_count": null,
   "metadata": {},
   "outputs": [],
   "source": [
    "week1.head()"
   ]
  },
  {
   "cell_type": "code",
   "execution_count": null,
   "metadata": {},
   "outputs": [],
   "source": [
    "week1.merge(satisfaction, how = \"left\", left_index = True, right_index = True)"
   ]
  },
  {
   "cell_type": "code",
   "execution_count": null,
   "metadata": {},
   "outputs": [],
   "source": [
    "# join joins on the index by default\n",
    "week1.join(satisfaction)"
   ]
  },
  {
   "cell_type": "markdown",
   "metadata": {},
   "source": [
    "# The `pd.merge()` Method"
   ]
  },
  {
   "cell_type": "code",
   "execution_count": null,
   "metadata": {},
   "outputs": [],
   "source": [
    "week1 = pd.read_csv(\"Restaurant - Week 1 Sales.csv\")\n",
    "week2 = pd.read_csv(\"Restaurant - Week 2 Sales.csv\")\n",
    "customers = pd.read_csv(\"Restaurant - Customers.csv\")\n",
    "foods = pd.read_csv(\"Restaurant - Foods.csv\")\n",
    "satisfaction = pd.read_csv(\"Restaurant - Week 1 Satisfaction.csv\")"
   ]
  },
  {
   "cell_type": "code",
   "execution_count": null,
   "metadata": {},
   "outputs": [],
   "source": [
    "week1.head()"
   ]
  },
  {
   "cell_type": "code",
   "execution_count": null,
   "metadata": {},
   "outputs": [],
   "source": [
    "customers.head()"
   ]
  },
  {
   "cell_type": "code",
   "execution_count": null,
   "metadata": {},
   "outputs": [],
   "source": [
    "# alternative writing\n",
    "pd.merge(week1,customers,how=\"left\",left_on = \"Customer ID\", right_on = \"ID\")"
   ]
  },
  {
   "cell_type": "code",
   "execution_count": null,
   "metadata": {},
   "outputs": [],
   "source": []
  }
 ],
 "metadata": {
  "kernelspec": {
   "display_name": "Python 3",
   "language": "python",
   "name": "python3"
  },
  "language_info": {
   "codemirror_mode": {
    "name": "ipython",
    "version": 3
   },
   "file_extension": ".py",
   "mimetype": "text/x-python",
   "name": "python",
   "nbconvert_exporter": "python",
   "pygments_lexer": "ipython3",
   "version": "3.7.6"
  }
 },
 "nbformat": 4,
 "nbformat_minor": 4
}
