{
 "cells": [
  {
   "cell_type": "code",
   "execution_count": null,
   "metadata": {},
   "outputs": [],
   "source": [
    "import pandas as pd"
   ]
  },
  {
   "cell_type": "code",
   "execution_count": null,
   "metadata": {},
   "outputs": [],
   "source": [
    "chicago = pd.read_csv(\"chicago.csv\")\n",
    "chicago[\"Department\"] = chicago[\"Department\"].astype(\"category\")\n",
    "chicago.head()"
   ]
  },
  {
   "cell_type": "code",
   "execution_count": null,
   "metadata": {},
   "outputs": [],
   "source": [
    "#store money/dollar sign as a string. \n",
    "chicago.info()"
   ]
  },
  {
   "cell_type": "code",
   "execution_count": null,
   "metadata": {},
   "outputs": [],
   "source": [
    "chicago[\"Department\"].nunique()"
   ]
  },
  {
   "cell_type": "code",
   "execution_count": null,
   "metadata": {},
   "outputs": [],
   "source": [
    "chicago[\"Department\"].count()"
   ]
  },
  {
   "cell_type": "markdown",
   "metadata": {},
   "source": [
    "# Common String Methods - `.lower(), .upper(), .title()` and `.len()'"
   ]
  },
  {
   "cell_type": "code",
   "execution_count": null,
   "metadata": {},
   "outputs": [],
   "source": [
    "chicago = pd.read_csv(\"chicago.csv\")\n",
    "chicago[\"Department\"] = chicago[\"Department\"].astype(\"category\")\n",
    "chicago.head()"
   ]
  },
  {
   "cell_type": "code",
   "execution_count": null,
   "metadata": {},
   "outputs": [],
   "source": [
    "\"HELLO WORD\".lower()\n",
    "\"hello world\".upper()\n",
    "\"hello world\".title()"
   ]
  },
  {
   "cell_type": "code",
   "execution_count": null,
   "metadata": {},
   "outputs": [],
   "source": [
    "#chicago[\"Name\"].title() # ERROR\n",
    "chicago[\"Name\"].str.lower()\n",
    "chicago[\"Name\"].str.lower().str.upper()"
   ]
  },
  {
   "cell_type": "code",
   "execution_count": null,
   "metadata": {},
   "outputs": [],
   "source": [
    "chicago[\"Name\"].str.title()"
   ]
  },
  {
   "cell_type": "code",
   "execution_count": null,
   "metadata": {},
   "outputs": [],
   "source": [
    "chicago[\"Position Title\"] = chicago[\"Position Title\"].str.title()\n",
    "chicago.head()"
   ]
  },
  {
   "cell_type": "code",
   "execution_count": null,
   "metadata": {},
   "outputs": [],
   "source": [
    "chicago[\"Department\"].str.len()"
   ]
  },
  {
   "cell_type": "markdown",
   "metadata": {},
   "source": [
    "# The `.str.replace()` Method"
   ]
  },
  {
   "cell_type": "code",
   "execution_count": null,
   "metadata": {},
   "outputs": [],
   "source": [
    "chicago = pd.read_csv(\"chicago.csv\").dropna(how = \"all\")\n",
    "chicago[\"Department\"] = chicago[\"Department\"].astype(\"category\")\n",
    "chicago.tail()"
   ]
  },
  {
   "cell_type": "code",
   "execution_count": null,
   "metadata": {},
   "outputs": [],
   "source": [
    "\"Hellow World\".replace(\"l\",\"!\")"
   ]
  },
  {
   "cell_type": "code",
   "execution_count": null,
   "metadata": {},
   "outputs": [],
   "source": [
    "chicago[\"Department\"] = chicago[\"Department\"].str.replace(\"MGMNT\", \"MANAGEMENT\")\n",
    "chicago.head()"
   ]
  },
  {
   "cell_type": "code",
   "execution_count": null,
   "metadata": {},
   "outputs": [],
   "source": [
    "chicago[\"Employee Annual Salary\"] = chicago[\"Employee Annual Salary\"].str.replace(\"$\",\"\").astype(float)"
   ]
  },
  {
   "cell_type": "code",
   "execution_count": null,
   "metadata": {},
   "outputs": [],
   "source": [
    "chicago[\"Employee Annual Salary\"].sum()\n",
    "chicago[\"Employee Annual Salary\"].mean()\n",
    "chicago[\"Employee Annual Salary\"].nlargest(10)"
   ]
  },
  {
   "cell_type": "markdown",
   "metadata": {},
   "source": [
    "# Filtering with String Methods"
   ]
  },
  {
   "cell_type": "code",
   "execution_count": null,
   "metadata": {},
   "outputs": [],
   "source": [
    "chicago = pd.read_csv(\"chicago.csv\").dropna(how = \"all\")\n",
    "chicago[\"Department\"] = chicago[\"Department\"].astype(\"category\")\n",
    "chicago.tail()"
   ]
  },
  {
   "cell_type": "code",
   "execution_count": null,
   "metadata": {},
   "outputs": [],
   "source": [
    "#find titles with 'water' in it\n",
    "#good to normalize the case of data before changing. case sensitive\n",
    "mask = chicago[\"Position Title\"].str.lower().str.contains(\"water\")\n",
    "chicago[mask]"
   ]
  },
  {
   "cell_type": "code",
   "execution_count": null,
   "metadata": {},
   "outputs": [],
   "source": [
    "chicago[chicago[\"Position Title\"].str.lower().str.startswith(\"water\")]"
   ]
  },
  {
   "cell_type": "code",
   "execution_count": null,
   "metadata": {},
   "outputs": [],
   "source": [
    "chicago[chicago[\"Position Title\"].str.lower().str.endswith(\"ist\")]"
   ]
  },
  {
   "cell_type": "markdown",
   "metadata": {},
   "source": [
    "# More string Methods - `strip, lstrip, and rstrip`"
   ]
  },
  {
   "cell_type": "code",
   "execution_count": null,
   "metadata": {},
   "outputs": [],
   "source": [
    "chicago = pd.read_csv(\"chicago.csv\").dropna(how = \"all\")\n",
    "chicago[\"Department\"] = chicago[\"Department\"].astype(\"category\")\n",
    "chicago.tail()"
   ]
  },
  {
   "cell_type": "code",
   "execution_count": null,
   "metadata": {},
   "outputs": [],
   "source": [
    "\"    Hellow World\".strip()\n",
    "\"    Hellow World \".lstrip()\n",
    "\"    Hellow World \".rstrip()"
   ]
  },
  {
   "cell_type": "code",
   "execution_count": null,
   "metadata": {},
   "outputs": [],
   "source": [
    "chicago[\"Name\"] = chicago[\"Name\"].str.lstrip().str.lstrip()"
   ]
  },
  {
   "cell_type": "code",
   "execution_count": null,
   "metadata": {},
   "outputs": [],
   "source": [
    "chicago[\"Position Title\"] = chicago[\"Position Title\"].str.strip()"
   ]
  },
  {
   "cell_type": "markdown",
   "metadata": {},
   "source": [
    "# String Methods on Index and Columns"
   ]
  },
  {
   "cell_type": "code",
   "execution_count": null,
   "metadata": {},
   "outputs": [],
   "source": [
    "chicago = pd.read_csv(\"chicago.csv\", index_col = \"Name\").dropna(how = \"all\")\n",
    "chicago[\"Department\"] = chicago[\"Department\"].astype(\"category\")\n",
    "chicago.tail()"
   ]
  },
  {
   "cell_type": "code",
   "execution_count": null,
   "metadata": {},
   "outputs": [],
   "source": [
    "chicago.index = chicago.index.str.strip().str.title()"
   ]
  },
  {
   "cell_type": "code",
   "execution_count": null,
   "metadata": {},
   "outputs": [],
   "source": [
    "chicago.head()"
   ]
  },
  {
   "cell_type": "code",
   "execution_count": null,
   "metadata": {},
   "outputs": [],
   "source": [
    "chicago.columns = chicago.columns.str.upper()"
   ]
  },
  {
   "cell_type": "code",
   "execution_count": null,
   "metadata": {},
   "outputs": [],
   "source": [
    "chicago.head()"
   ]
  },
  {
   "cell_type": "markdown",
   "metadata": {},
   "source": [
    "# Split Strings by Characters with `.str.spli()` Method"
   ]
  },
  {
   "cell_type": "code",
   "execution_count": null,
   "metadata": {},
   "outputs": [],
   "source": [
    "chicago = pd.read_csv(\"chicago.csv\").dropna(how = \"all\")\n",
    "chicago[\"Department\"] = chicago[\"Department\"].astype(\"category\")\n",
    "chicago.tail()"
   ]
  },
  {
   "cell_type": "code",
   "execution_count": null,
   "metadata": {},
   "outputs": [],
   "source": [
    "\"Hello my name is Boris\".split(\" \")"
   ]
  },
  {
   "cell_type": "code",
   "execution_count": null,
   "metadata": {},
   "outputs": [],
   "source": [
    "chicago[\"Name\"].str.title().str.split(\",\").str.get(0)"
   ]
  },
  {
   "cell_type": "code",
   "execution_count": null,
   "metadata": {},
   "outputs": [],
   "source": [
    "# get 0 column index\n",
    "chicago[\"Name\"].str.title().str.split(\",\").str.get(0)\n",
    "chicago[\"Name\"].str.title().str.split(\",\").str.get(0).value_counts() #number of each name"
   ]
  },
  {
   "cell_type": "code",
   "execution_count": null,
   "metadata": {},
   "outputs": [],
   "source": [
    "chicago[\"Position Title\"].str.split(\" \").str.get(0).value_counts()"
   ]
  },
  {
   "cell_type": "markdown",
   "metadata": {},
   "source": [
    "# More Practice with Splits"
   ]
  },
  {
   "cell_type": "code",
   "execution_count": null,
   "metadata": {},
   "outputs": [],
   "source": [
    "chicago = pd.read_csv(\"chicago.csv\").dropna(how = \"all\")\n",
    "chicago[\"Department\"] = chicago[\"Department\"].astype(\"category\")\n",
    "chicago.tail()"
   ]
  },
  {
   "cell_type": "code",
   "execution_count": null,
   "metadata": {},
   "outputs": [],
   "source": [
    "# challenge: most common first name\n",
    "chicago[\"Name\"].str.split(\",\").str.get(1).str.split(\" \") # issue with extra spaces. \n",
    "chicago[\"Name\"].str.split(\",\").str.get(1).str.strip().str.split(\" \").str.get(2)\n",
    "chicago[\"Name\"].str.split(\",\").str.get(1).str.strip().str.split(\" \").str.get(0).value_counts()"
   ]
  },
  {
   "cell_type": "markdown",
   "metadata": {},
   "source": [
    "# The `expand` and `n` Parameters of the `str.split()` Method"
   ]
  },
  {
   "cell_type": "code",
   "execution_count": null,
   "metadata": {},
   "outputs": [],
   "source": [
    "chicago = pd.read_csv(\"chicago.csv\").dropna(how = \"all\")\n",
    "chicago[\"Department\"] = chicago[\"Department\"].astype(\"category\")\n",
    "chicago.tail()"
   ]
  },
  {
   "cell_type": "code",
   "execution_count": null,
   "metadata": {},
   "outputs": [],
   "source": [
    "chicago[\"Name\"].str.split(\",\")"
   ]
  },
  {
   "cell_type": "code",
   "execution_count": null,
   "metadata": {},
   "outputs": [],
   "source": [
    "# get data frame instead of series.\n",
    "chicago[\"Name\"].str.split(\",\", expand = True)"
   ]
  },
  {
   "cell_type": "code",
   "execution_count": null,
   "metadata": {},
   "outputs": [],
   "source": [
    "# add data frame to data frame\n",
    "chicago[[\"First Name\",\"Last Name\"]] = chicago[\"Name\"].str.split(\",\", expand = True)"
   ]
  },
  {
   "cell_type": "code",
   "execution_count": null,
   "metadata": {},
   "outputs": [],
   "source": [
    "chicago.head()"
   ]
  },
  {
   "cell_type": "code",
   "execution_count": null,
   "metadata": {},
   "outputs": [],
   "source": [
    "# example with more splits. \n",
    "chicago[\"Position Title\"].str.split(\" \", expand = True)"
   ]
  },
  {
   "cell_type": "code",
   "execution_count": null,
   "metadata": {},
   "outputs": [],
   "source": [
    "# limit results with n, remaining goin into the 2nd column. \n",
    "chicago[\"Position Title\"].str.split(\" \", expand = True, n = 1)"
   ]
  },
  {
   "cell_type": "code",
   "execution_count": null,
   "metadata": {},
   "outputs": [],
   "source": [
    "chicago[[\"Frist Title Word\", \"Remaining Words\"]] = chicago[\"Position Title\"].str.split(\" \", expand = True, n = 1)\n",
    "chicago.head()"
   ]
  }
 ],
 "metadata": {
  "kernelspec": {
   "display_name": "Python 3",
   "language": "python",
   "name": "python3"
  },
  "language_info": {
   "codemirror_mode": {
    "name": "ipython",
    "version": 3
   },
   "file_extension": ".py",
   "mimetype": "text/x-python",
   "name": "python",
   "nbconvert_exporter": "python",
   "pygments_lexer": "ipython3",
   "version": "3.7.6"
  }
 },
 "nbformat": 4,
 "nbformat_minor": 4
}
