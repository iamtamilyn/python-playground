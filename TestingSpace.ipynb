{
 "cells": [
  {
   "cell_type": "code",
   "execution_count": 17,
   "metadata": {
    "ExecuteTime": {
     "end_time": "2020-09-23T17:01:14.118906Z",
     "start_time": "2020-09-23T17:01:14.114908Z"
    }
   },
   "outputs": [],
   "source": [
    "import re\n",
    "\n",
    "row_value = \"123456789\"\n",
    "row_value = \"\"\n",
    "\n",
    "result = re.search(\"^\\\\d{9}$\", row_value)"
   ]
  },
  {
   "cell_type": "code",
   "execution_count": 18,
   "metadata": {
    "ExecuteTime": {
     "end_time": "2020-09-23T17:01:14.772879Z",
     "start_time": "2020-09-23T17:01:14.767884Z"
    }
   },
   "outputs": [
    {
     "name": "stdout",
     "output_type": "stream",
     "text": [
      "make false\n"
     ]
    }
   ],
   "source": [
    "if result:\n",
    "    print(\"found\")\n",
    "if not result:\n",
    "    print(\"make false\")"
   ]
  },
  {
   "cell_type": "code",
   "execution_count": 9,
   "metadata": {
    "ExecuteTime": {
     "end_time": "2020-09-23T16:58:30.388514Z",
     "start_time": "2020-09-23T16:58:30.385513Z"
    }
   },
   "outputs": [
    {
     "data": {
      "text/plain": [
       "'123456789'"
      ]
     },
     "execution_count": 9,
     "metadata": {},
     "output_type": "execute_result"
    }
   ],
   "source": [
    "result.string"
   ]
  },
  {
   "cell_type": "markdown",
   "metadata": {},
   "source": [
    "## Loop Breaking, Again"
   ]
  },
  {
   "cell_type": "code",
   "execution_count": 24,
   "metadata": {
    "ExecuteTime": {
     "end_time": "2020-09-23T17:52:12.668136Z",
     "start_time": "2020-09-23T17:52:12.660138Z"
    }
   },
   "outputs": [
    {
     "name": "stdout",
     "output_type": "stream",
     "text": [
      "loop1 0\n",
      "inner 0\n",
      "break\n",
      "loop1 1\n",
      "inner 0\n",
      "break\n",
      "loop1 2\n",
      "inner 0\n",
      "break\n"
     ]
    }
   ],
   "source": [
    "loop = range(0,3)\n",
    "inner = range(0,3)\n",
    "for x in loop:\n",
    "    print(\"loop1\", x)\n",
    "    for x in inner:\n",
    "        print(\"inner\",x)\n",
    "        print(\"break\")\n",
    "        break\n",
    "        "
   ]
  }
 ],
 "metadata": {
  "kernelspec": {
   "display_name": "Python 3",
   "language": "python",
   "name": "python3"
  },
  "language_info": {
   "codemirror_mode": {
    "name": "ipython",
    "version": 3
   },
   "file_extension": ".py",
   "mimetype": "text/x-python",
   "name": "python",
   "nbconvert_exporter": "python",
   "pygments_lexer": "ipython3",
   "version": "3.8.3"
  },
  "toc": {
   "base_numbering": 1,
   "nav_menu": {},
   "number_sections": true,
   "sideBar": true,
   "skip_h1_title": false,
   "title_cell": "Table of Contents",
   "title_sidebar": "Contents",
   "toc_cell": false,
   "toc_position": {},
   "toc_section_display": true,
   "toc_window_display": false
  }
 },
 "nbformat": 4,
 "nbformat_minor": 4
}
